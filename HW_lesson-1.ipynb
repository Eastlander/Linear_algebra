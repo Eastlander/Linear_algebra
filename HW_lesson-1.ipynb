{
 "cells": [
  {
   "cell_type": "markdown",
   "metadata": {},
   "source": [
    "### Первая часть"
   ]
  },
  {
   "cell_type": "code",
   "execution_count": 1,
   "metadata": {},
   "outputs": [],
   "source": [
    "import numpy as np"
   ]
  },
  {
   "cell_type": "markdown",
   "metadata": {},
   "source": [
    "#### 1. Исследовать на линейную зависимость:\n",
    "\n",
    "$$f_{1}(x)=e^{x}, f_{2}(x)=1, f_{3}(x)=x+1, f_{4}(x)=x-e^{x}.$$"
   ]
  },
  {
   "cell_type": "markdown",
   "metadata": {},
   "source": [
    "Заметим, что $𝑓_1(𝑥) = 𝑓_3(𝑥) - 𝑓_2(𝑥) - 𝑓_4(𝑥) = (𝑥 + 1) - 1 - (x - e^x) = e^x$, т.е. вектор $f_1(x)$ - линейная комбинация векторов  $f_2(x)$, $f_3(x)$ и $f_4(x)$ , из чего можно сделать вывод, что $f_1(x) = e^x, f_2(x) = 1, f_3(x) = x + 1, f_4(x) = x − e^x$ линейно зависимы"
   ]
  },
  {
   "cell_type": "markdown",
   "metadata": {},
   "source": [
    "#### 2. Исследовать на линейную зависимость:\n",
    "$$f_{1}(x)=2, f_{2}(x)=x, f_{3}(x)=x^{2}, f_{4}(x)=(x+1)^{2}$$"
   ]
  },
  {
   "cell_type": "markdown",
   "metadata": {},
   "source": [
    "Заметим, что $𝑓_4(𝑥) = 𝑓_3(𝑥) + 2𝑓_2(𝑥) + 1/2 𝑓_1(𝑥) = x^2 + 2(x) + 1/2 (2) = x^2 + 2x + 1$, т.е. вектор $f_4(x)$ - линейная комбинация векторов  $f_1(x)$, $f_2(x)$ и $f_3(x)$ , из чего можно сделать вывод, что $f_{1}(x)=2, f_{2}(x)=x, f_{3}(x)=x^{2}, f_{4}(x)=(x+1)^{2}$ линейно зависимы"
   ]
  },
  {
   "cell_type": "markdown",
   "metadata": {},
   "source": [
    "#### 3. Найти координаты вектора $x = (2, 3, 5)\\in \\mathbb{R}^{3}$ в базисе $b_{1}=(0, 0, 10)$, $b_{2}=(2, 0, 0)$, $b_{3}=(0, 1, 0)$."
   ]
  },
  {
   "cell_type": "markdown",
   "metadata": {},
   "source": [
    "Стандартный базис линейного пространства $\\mathbb{R}^{3}$ образуют векторы \n",
    "$b_{1}=(0, 0, 10)$, $b_{2}=(2, 0, 0)$, $b_{3}=(0, 1, 0)$.\n",
    "Тогда\n",
    "\n",
    "$$x = (2, 3, 5) = (2, 0, 0) + 3\\cdot(0, 1, 0) + 1/2\\cdot(0, 0, 10) = b_2 + 3b_3 + 1/2\\cdot b_2$$\n",
    "\n",
    "то есть координатами вектора $x$ в стандартном базисе являются $2$, $3$, $5$."
   ]
  },
  {
   "cell_type": "code",
   "execution_count": 2,
   "metadata": {},
   "outputs": [],
   "source": [
    "b_1 = np.array([0, 0 , 10])\n",
    "b_2 = np.array([2, 0, 0])\n",
    "b_3 = np.array([0, 1, 0])"
   ]
  },
  {
   "cell_type": "code",
   "execution_count": 3,
   "metadata": {},
   "outputs": [
    {
     "name": "stdout",
     "output_type": "stream",
     "text": [
      "Вектор x: [2. 3. 5.]\n"
     ]
    }
   ],
   "source": [
    "x = (1/2)*b_1 + 1*b_2 + 3*b_3\n",
    "print(f'Вектор x: {x}')"
   ]
  },
  {
   "cell_type": "markdown",
   "metadata": {},
   "source": [
    "#### 4. Найти координаты вектора $3x^{2}-2x+2\\in\\mathbb{R}^{3}[x]$:\n",
    "\n",
    "а) в базисе $1$, $x$, $x^{2}$;\n",
    "\n",
    "б) в базисе $x^{2}$, $x-1$, $1$."
   ]
  },
  {
   "cell_type": "markdown",
   "metadata": {},
   "source": [
    "а) зададим базис из 3-х векторов:$$e_1=(1, 0, 0)$$$$e_2=(0, x, 0)$$$$e_3=(0, 0, x^2)$$"
   ]
  },
  {
   "cell_type": "markdown",
   "metadata": {},
   "source": [
    "Тогда наш вектор в этом базисе $2-2x+3x^{2}$ будет выглядеть так:\n",
    "\n",
    "$$3e_1 - 2e_2 + 0 \\cdot e_3= (3, -2, 0)$$"
   ]
  },
  {
   "cell_type": "markdown",
   "metadata": {},
   "source": [
    "Ответ: $$(3, -2, 0)$$"
   ]
  },
  {
   "cell_type": "markdown",
   "metadata": {},
   "source": [
    "б) зададим базис из 3-х векторов:$$e_1=(x^2, 0, 0)$$$$e_2=(0, x - 1, 0)$$$$e_3=(0, 0, 1)$$"
   ]
  },
  {
   "cell_type": "markdown",
   "metadata": {},
   "source": [
    "Тогда наш вектор в этом базисе $2-2x+3x^{2}$ будет выглядеть так:\n",
    "    \n",
    "$$3e_1 - 2e_2 + 0 \\cdot e_3= (3, -2, 0)$$"
   ]
  },
  {
   "cell_type": "markdown",
   "metadata": {},
   "source": [
    "Ответ: $$(3, -2, 0)$$"
   ]
  },
  {
   "cell_type": "markdown",
   "metadata": {},
   "source": [
    "#### 5. Установить, является ли линейным подпространством:\n",
    "\n",
    "а) совокупность всех векторов трехмерного пространства, у которых по крайней мере одна из первых двух координат равна нулю;\n",
    "    \n",
    "б) все векторы, являющиеся линейными комбинациями данных векторов $\\{u_{1}, u_{2}, \\ldots, u_{n}\\}$."
   ]
  },
  {
   "cell_type": "markdown",
   "metadata": {},
   "source": [
    "а) $(0, a, b)+(0, c, d) = (0, a+c, b+d),$\n",
    "\n",
    "$\\alpha\\cdot (0, a, b) = (0, \\alpha a, \\alpha b)$"
   ]
  },
  {
   "cell_type": "markdown",
   "metadata": {},
   "source": [
    "Ответ: данное множество является подпространством линейного пространства $\\mathbb{R}^{3}$"
   ]
  },
  {
   "cell_type": "markdown",
   "metadata": {},
   "source": [
    "б) данное множество является подпространством линейного пространства $\\mathbb{R}^{3}$"
   ]
  },
  {
   "cell_type": "markdown",
   "metadata": {},
   "source": [
    "### Вторая часть"
   ]
  },
  {
   "cell_type": "markdown",
   "metadata": {},
   "source": [
    "#### 1. Найти скалярное произведение векторов $x, y \\in \\mathbb{R}$:<br>\n",
    "а) $x=(0,-3, 6),~y=(-4, 7, 9);$<br>\n",
    "б) $x=(7, -4, 0, 1),~y=(-3, 1, 11, 2).$ "
   ]
  },
  {
   "cell_type": "markdown",
   "metadata": {},
   "source": [
    "a) $(x, y) = 0\\cdot(-4) + (-3)\\cdot7 + 6\\cdot9 = 33$"
   ]
  },
  {
   "cell_type": "code",
   "execution_count": 4,
   "metadata": {},
   "outputs": [
    {
     "name": "stdout",
     "output_type": "stream",
     "text": [
      "Скалярное произведение x и y:\n",
      "33\n"
     ]
    }
   ],
   "source": [
    "x = np.array([0, -3, 6])\n",
    "y = np.array([-4, 7, 9])\n",
    "print(f'Скалярное произведение x и y:\\n{x @ y}')"
   ]
  },
  {
   "cell_type": "markdown",
   "metadata": {},
   "source": [
    "б) $(x, y) = 7\\cdot(-3) + (-4)\\cdot1 + 0\\cdot11 + 1\\cdot2 = - 23$"
   ]
  },
  {
   "cell_type": "code",
   "execution_count": 5,
   "metadata": {},
   "outputs": [
    {
     "name": "stdout",
     "output_type": "stream",
     "text": [
      "Скалярное произведение x и y: -23\n"
     ]
    }
   ],
   "source": [
    "x = np.array([7, -4, 0, 1])\n",
    "y = np.array([-3,1,11,2])\n",
    "print(f'Скалярное произведение x и y: {x @ y}')"
   ]
  },
  {
   "cell_type": "markdown",
   "metadata": {},
   "source": [
    "#### 2. Найти нормы векторов  (4,2,4)  и  (12,3,4)  и угол между ними."
   ]
  },
  {
   "cell_type": "code",
   "execution_count": 6,
   "metadata": {},
   "outputs": [],
   "source": [
    "from numpy.linalg import norm"
   ]
  },
  {
   "cell_type": "markdown",
   "metadata": {},
   "source": [
    "$$x = (4, 2, 4)$$$$y = (12, 3, 4)$$"
   ]
  },
  {
   "cell_type": "markdown",
   "metadata": {},
   "source": [
    "Вручную определим манхеттэнскую норму:\n",
    "$$\\left\\|x\\right\\|_{1} = \\sum_{i}|x_{i}|;$$"
   ]
  },
  {
   "cell_type": "markdown",
   "metadata": {},
   "source": [
    "$\\left\\|x\\right\\|_{1} = (|4| + |2| + |4|) = 10$"
   ]
  },
  {
   "cell_type": "markdown",
   "metadata": {},
   "source": [
    "$\\left\\|y\\right\\|_{1} = (|12| + |3| + |4|) = 19$"
   ]
  },
  {
   "cell_type": "markdown",
   "metadata": {},
   "source": [
    "Вручную определим евклидову норму:$$\\left\\|x\\right\\|_{2} = \\sqrt{\\sum_{i}|x_{i}|^{2}}.$$"
   ]
  },
  {
   "cell_type": "markdown",
   "metadata": {},
   "source": [
    "$\\left\\|x\\right\\|_{2} = \\sqrt{4^2 + 2^2 + 4^2} = 6$"
   ]
  },
  {
   "cell_type": "markdown",
   "metadata": {},
   "source": [
    "$\\left\\|y\\right\\|_{2} = \\sqrt{12^2 + 3^2 + 4^2} = 13$"
   ]
  },
  {
   "cell_type": "markdown",
   "metadata": {},
   "source": [
    "Теперь вычислим всё программно:"
   ]
  },
  {
   "cell_type": "code",
   "execution_count": 7,
   "metadata": {},
   "outputs": [
    {
     "name": "stdout",
     "output_type": "stream",
     "text": [
      "\n",
      "Манхетовская норма (длина) вектора x: 10.0\n",
      "Манхетовская норма (длина) вектора y: 19.0\n",
      "\n",
      "Евклидова норма (длина) вектора x: 6.0\n",
      "Евклидова норма (длина) вектора y: 13.0\n"
     ]
    }
   ],
   "source": [
    "x = np.array([4, 2, 4])\n",
    "y = np.array([12, 3, 4])\n",
    "\n",
    "print(f'\\nМанхетовская норма (длина) вектора x: {norm(x, ord=1)}')\n",
    "print(f'Манхетовская норма (длина) вектора y: {norm(y, ord=1)}')\n",
    "\n",
    "print(f'\\nЕвклидова норма (длина) вектора x: {norm(x, ord=2)}')\n",
    "print(f'Евклидова норма (длина) вектора y: {norm(y, ord=2)}')"
   ]
  },
  {
   "cell_type": "markdown",
   "metadata": {},
   "source": [
    "Найдём угол между векторами, косинус которого определяется соотношением:\n",
    "$$cos\\varphi = \\frac{(x,y)}{\\left \\|x\\right \\|\\cdot\\left \\|y\\right \\|}.$$"
   ]
  },
  {
   "cell_type": "markdown",
   "metadata": {},
   "source": [
    "$cos\\varphi = \\frac{(4\\cdot12 + 2\\cdot3 + 4\\cdot4)}{10\\cdot19} = 0.368$"
   ]
  },
  {
   "cell_type": "markdown",
   "metadata": {},
   "source": [
    "Т.к. косинус равен нулю, угол равен 0°"
   ]
  },
  {
   "cell_type": "code",
   "execution_count": 8,
   "metadata": {},
   "outputs": [
    {
     "name": "stdout",
     "output_type": "stream",
     "text": [
      "\n",
      "Угол между векторами x и y: 0.3684210526315789\n"
     ]
    }
   ],
   "source": [
    "print(f'\\nУгол между векторами x и y: {(x @ y) / (norm(x, ord=1) * norm(y, ord=1))}')"
   ]
  },
  {
   "cell_type": "markdown",
   "metadata": {},
   "source": [
    "#### 3. Будет ли линейное пространство евклидовым, если за скалярное произведение принять:<br>\n",
    "а) произведение длин векторов;<br>\n",
    "б) утроенное обычное скалярное произведение векторов?<br>"
   ]
  },
  {
   "cell_type": "code",
   "execution_count": 9,
   "metadata": {},
   "outputs": [],
   "source": [
    "# a)\n",
    "x = np.array([8, -5, 0, 3])\n",
    "x_1 = np.array([6, 2, -3, 1])\n",
    "y = np.array([-5, 1, 11, 7])"
   ]
  },
  {
   "cell_type": "code",
   "execution_count": 10,
   "metadata": {},
   "outputs": [
    {
     "name": "stdout",
     "output_type": "stream",
     "text": [
      "Вектор x: [ 8 -5  0  3]\n",
      "Вектор y: [-5  1 11  7]\n",
      "\n",
      "Скалярное произведение x и y:\n",
      "138.59292911256333\n"
     ]
    }
   ],
   "source": [
    "print(f'Вектор x: {x}')\n",
    "print(f'Вектор y: {y}')\n",
    "print(f'\\nСкалярное произведение x и y:\\n{norm(x) * norm(y)}')"
   ]
  },
  {
   "cell_type": "code",
   "execution_count": 11,
   "metadata": {},
   "outputs": [
    {
     "name": "stdout",
     "output_type": "stream",
     "text": [
      "\n",
      "1. (x, y) = (y, x) ?:\n",
      "138.59292911256333 = 138.59292911256333\n",
      "\n",
      "2. (lambda*x, y) = lambda*(y, x) ?:\n",
      "1385.9292911256332 = 1385.9292911256332\n",
      "\n",
      "Вектор x_1: [ 6  2 -3  1]\n",
      "\n",
      "3. (x_1 + x_2, y) = (x_1, y) + (x_2, y) ?:\n",
      "212.3205124334434 = 237.58787847867998\n"
     ]
    }
   ],
   "source": [
    "print(f'\\n1. (x, y) = (y, x) ?:\\n{norm(x) * norm(y)} = {norm(y) * norm(x)}')\n",
    "lambd = 10\n",
    "print(f'\\n2. (lambda*x, y) = lambda*(y, x) ?:\\n{norm(lambd*x) * norm(y)} = {lambd * (norm(x) * norm(y))}')\n",
    "print(f'\\nВектор x_1: {x_1}')\n",
    "print(f'\\n3. (x_1 + x_2, y) = (x_1, y) + (x_2, y) ?:\\n{norm(x + x_1) * norm(y)} = {(norm(x) * norm(y)) + (norm(x_1) * norm(y))}')"
   ]
  },
  {
   "cell_type": "markdown",
   "metadata": {},
   "source": [
    "3-я аксиома для евклидова пространства не выполняется.\n",
    "\n",
    "**Вывод**: а) если за скалярное произведение принять произведение длин векторов, то линейное пространство не является евклидовым."
   ]
  },
  {
   "cell_type": "code",
   "execution_count": 12,
   "metadata": {},
   "outputs": [
    {
     "name": "stdout",
     "output_type": "stream",
     "text": [
      "Вектор x: [ 8 -5  0  3]\n",
      "Вектор y: [-5  1 11  7]\n",
      "\n",
      "Утроенное обычное скалярное произведение x и y:\n",
      "-72\n"
     ]
    }
   ],
   "source": [
    "# б)\n",
    "print(f'Вектор x: {x}')\n",
    "print(f'Вектор y: {y}')\n",
    "\n",
    "print(f'\\nУтроенное обычное скалярное произведение x и y:\\n{3*(x @ y)}')"
   ]
  },
  {
   "cell_type": "code",
   "execution_count": 13,
   "metadata": {},
   "outputs": [
    {
     "name": "stdout",
     "output_type": "stream",
     "text": [
      "\n",
      "1. (x, y) = (y, x) ?:\n",
      "-72 = -72\n",
      "\n",
      "2. (lambda*x, y) = lambda*(y, x) ?:\n",
      "-720 = -720\n",
      "\n",
      "Вектор x_1: [ 6  2 -3  1]\n",
      "\n",
      "3. (x_1 + x_2, y) = (y, x_1) + (y, x_2) ?:\n",
      "-234 = -234\n",
      "\n",
      "4. (x, x) >= 0 ?:\n",
      "294 > 0\n"
     ]
    }
   ],
   "source": [
    "print(f'\\n1. (x, y) = (y, x) ?:\\n{3*(x @ y)} = {3*(y @ x)}')\n",
    "lambd = 10\n",
    "print(f'\\n2. (lambda*x, y) = lambda*(y, x) ?:\\n{3*((lambd*x) @ y)} = {lambd*3*(x @ y)}')\n",
    "print(f'\\nВектор x_1: {x_1}')\n",
    "print(f'\\n3. (x_1 + x_2, y) = (y, x_1) + (y, x_2) ?:\\n{3*((x + x_1) @ y)} = {(3*(x @ y)) + (3*(x_1 @ y))}')\n",
    "print(f'\\n4. (x, x) >= 0 ?:\\n{3*(x @ x)} > 0')"
   ]
  },
  {
   "cell_type": "markdown",
   "metadata": {},
   "source": [
    "**Вывод**: б) если за скалярное произведение принять утроенное обычное скалярное произведение векторов, то линейное пространство является евклидовым."
   ]
  },
  {
   "cell_type": "markdown",
   "metadata": {},
   "source": [
    "#### 4. Какие из нижеперечисленных векторов образуют ортонормированный базис в линейном пространстве $\\mathbb{R}^{3}$:<br>\n",
    "а) $(1,0,0),(0,0,1);$ <br>\n",
    "б) $(1/\\sqrt{2},-1/\\sqrt{2},0),(1/\\sqrt{2},1/\\sqrt{2},0), (0,0,1);$<br>\n",
    "в) $(1/2, -1/2, 0), (0, 1/2, 1/2), (0,0,1);$<br>\n",
    "г) $(1,0,0),(0,1,0),(0,0,1)?$ "
   ]
  },
  {
   "cell_type": "markdown",
   "metadata": {},
   "source": [
    "Определение. В конечномерном евклидовом пространстве базис $\\{e_{1},e_{2},...,e_{n}\\}$ называется ортонормированным, если\n",
    "\n",
    "$(e_{i}, e_{j})=0$ $\\forall$ $i\\neq j$ и $(e_{i},e_{i})=1$ $\\forall$ $i\\in[1, n].$"
   ]
  },
  {
   "cell_type": "code",
   "execution_count": 14,
   "metadata": {},
   "outputs": [
    {
     "name": "stdout",
     "output_type": "stream",
     "text": [
      "Вектор e_1: [1 0 0]\n",
      "Вектор e_2: [0 0 1]\n",
      "\n",
      "Скалярное произведение e_1 и e_2:\n",
      "0\n",
      "Евклидова норма (длина) вектора e_1: 1.0\n",
      "Евклидова норма (длина) вектора e_2: 1.0\n"
     ]
    }
   ],
   "source": [
    "#a)\n",
    "\n",
    "e_1 = np.array([1, 0, 0])\n",
    "e_2 = np.array([0, 0, 1])\n",
    "\n",
    "print(f'Вектор e_1: {e_1}')\n",
    "print(f'Вектор e_2: {e_2}')\n",
    "\n",
    "print(f'\\nСкалярное произведение e_1 и e_2:\\n{e_1 @ e_2}')\n",
    "print(f'Евклидова норма (длина) вектора e_1: {norm(e_1)}')\n",
    "print(f'Евклидова норма (длина) вектора e_2: {norm(e_2)}')"
   ]
  },
  {
   "cell_type": "markdown",
   "metadata": {},
   "source": [
    "**Вывод**: Для образования ортонормированнго базиса в линейном пространстве $\\mathbb{R}^{3}$ необходимо три вектора.\n",
    "Вектора (1,0,0) и (0,0,1) образуют ортонормированный базис в линейном 2-мерном подпространстве $\\mathbb{R}^{2}$ пространства $\\mathbb{R}^{3}$."
   ]
  },
  {
   "cell_type": "code",
   "execution_count": 15,
   "metadata": {},
   "outputs": [
    {
     "name": "stdout",
     "output_type": "stream",
     "text": [
      "Вектор e_1: [ 0.70710678 -0.70710678  0.        ]\n",
      "Вектор e_2: [0.70710678 0.70710678 0.        ]\n",
      "Вектор e_3: [0.70710678 0.70710678 0.        ]\n",
      "\n",
      "Скалярное произведение e_1 и e_2:\n",
      "0.0\n",
      "Скалярное произведение e_1 и e_3:\n",
      "0.0\n",
      "Скалярное произведение e_2 и e_3:\n",
      "0.0\n",
      "\n",
      "Евклидова норма (длина) вектора e_1: 0.9999999999999999\n",
      "Евклидова норма (длина) вектора e_2: 0.9999999999999999\n",
      "Евклидова норма (длина) вектора e_3: 1.0\n"
     ]
    }
   ],
   "source": [
    "# б)\n",
    "\n",
    "e_1 = np.array([1/(2**(1/2)), -1/(2**(1/2)), 0])\n",
    "e_2 = np.array([1/(2**(1/2)), 1/(2**(1/2)), 0])\n",
    "e_3 = np.array([0, 0, 1])\n",
    "\n",
    "print(f'Вектор e_1: {e_1}')\n",
    "print(f'Вектор e_2: {e_2}')\n",
    "print(f'Вектор e_3: {e_2}')\n",
    "\n",
    "print(f'\\nСкалярное произведение e_1 и e_2:\\n{e_1 @ e_2}')\n",
    "print(f'Скалярное произведение e_1 и e_3:\\n{e_1 @ e_3}')\n",
    "print(f'Скалярное произведение e_2 и e_3:\\n{e_2 @ e_3}')\n",
    "print(f'\\nЕвклидова норма (длина) вектора e_1: {norm(e_1)}')\n",
    "print(f'Евклидова норма (длина) вектора e_2: {norm(e_2)}')\n",
    "print(f'Евклидова норма (длина) вектора e_3: {norm(e_3)}')"
   ]
  },
  {
   "cell_type": "markdown",
   "metadata": {},
   "source": [
    "**Вывод**: вектора $(1/\\sqrt{2},-1/\\sqrt{2},0),(1/\\sqrt{2},1/\\sqrt{2},0), (0,0,1)$ образуют ортонормированный базис в линейном пространстве ℝ3."
   ]
  },
  {
   "cell_type": "code",
   "execution_count": 16,
   "metadata": {},
   "outputs": [
    {
     "name": "stdout",
     "output_type": "stream",
     "text": [
      "Вектор e_1: [ 0.5 -0.5  0. ]\n",
      "Вектор e_2: [0.  0.5 0.5]\n",
      "Вектор e_3: [0.  0.5 0.5]\n",
      "\n",
      "Скалярное произведение e_1 и e_2:\n",
      "-0.25\n",
      "Скалярное произведение e_1 и e_3:\n",
      "0.0\n",
      "Скалярное произведение e_2 и e_3:\n",
      "0.5\n",
      "\n",
      "Евклидова норма (длина) вектора e_1: 0.7071067811865476\n",
      "Евклидова норма (длина) вектора e_2: 0.7071067811865476\n",
      "Евклидова норма (длина) вектора e_3: 1.0\n"
     ]
    }
   ],
   "source": [
    "# в)\n",
    "\n",
    "e_1 = np.array([1/2, -1/2, 0])\n",
    "e_2 = np.array([0, 1/2, 1/2])\n",
    "e_3 = np.array([0, 0, 1])\n",
    "\n",
    "print(f'Вектор e_1: {e_1}')\n",
    "print(f'Вектор e_2: {e_2}')\n",
    "print(f'Вектор e_3: {e_2}')\n",
    "\n",
    "print(f'\\nСкалярное произведение e_1 и e_2:\\n{e_1 @ e_2}')\n",
    "print(f'Скалярное произведение e_1 и e_3:\\n{e_1 @ e_3}')\n",
    "print(f'Скалярное произведение e_2 и e_3:\\n{e_2 @ e_3}')\n",
    "print(f'\\nЕвклидова норма (длина) вектора e_1: {norm(e_1)}')\n",
    "print(f'Евклидова норма (длина) вектора e_2: {norm(e_2)}')\n",
    "print(f'Евклидова норма (длина) вектора e_3: {norm(e_3)}')"
   ]
  },
  {
   "cell_type": "markdown",
   "metadata": {},
   "source": [
    "**Вывод**: вектора $(1/2, -1/2, 0), (0, 1/2, 1/2), (0,0,1)$ не образуют ортонормированный базис в линейном пространстве ℝ3."
   ]
  },
  {
   "cell_type": "code",
   "execution_count": 17,
   "metadata": {},
   "outputs": [
    {
     "name": "stdout",
     "output_type": "stream",
     "text": [
      "Вектор e_1: [1 0 0]\n",
      "Вектор e_2: [0 1 0]\n",
      "Вектор e_3: [0 1 0]\n",
      "\n",
      "Скалярное произведение e_1 и e_2:\n",
      "0\n",
      "Скалярное произведение e_1 и e_3:\n",
      "0\n",
      "Скалярное произведение e_2 и e_3:\n",
      "0\n",
      "\n",
      "Евклидова норма (длина) вектора e_1: 1.0\n",
      "Евклидова норма (длина) вектора e_2: 1.0\n",
      "Евклидова норма (длина) вектора e_3: 1.0\n"
     ]
    }
   ],
   "source": [
    "# г)\n",
    "\n",
    "e_1 = np.array([1, 0, 0])\n",
    "e_2 = np.array([0, 1, 0])\n",
    "e_3 = np.array([0, 0, 1])\n",
    "\n",
    "print(f'Вектор e_1: {e_1}')\n",
    "print(f'Вектор e_2: {e_2}')\n",
    "print(f'Вектор e_3: {e_2}')\n",
    "\n",
    "print(f'\\nСкалярное произведение e_1 и e_2:\\n{e_1 @ e_2}')\n",
    "print(f'Скалярное произведение e_1 и e_3:\\n{e_1 @ e_3}')\n",
    "print(f'Скалярное произведение e_2 и e_3:\\n{e_2 @ e_3}')\n",
    "print(f'\\nЕвклидова норма (длина) вектора e_1: {norm(e_1)}')\n",
    "print(f'Евклидова норма (длина) вектора e_2: {norm(e_2)}')\n",
    "print(f'Евклидова норма (длина) вектора e_3: {norm(e_3)}')"
   ]
  },
  {
   "cell_type": "markdown",
   "metadata": {},
   "source": [
    "**Вывод**: вектора $(1, 0, 0), (0, 1, 0), (0,0,1)$ образуют ортонормированный базис в линейном пространстве ℝ3."
   ]
  },
  {
   "cell_type": "code",
   "execution_count": null,
   "metadata": {},
   "outputs": [],
   "source": []
  }
 ],
 "metadata": {
  "kernelspec": {
   "display_name": "Python 3",
   "language": "python",
   "name": "python3"
  },
  "language_info": {
   "codemirror_mode": {
    "name": "ipython",
    "version": 3
   },
   "file_extension": ".py",
   "mimetype": "text/x-python",
   "name": "python",
   "nbconvert_exporter": "python",
   "pygments_lexer": "ipython3",
   "version": "3.8.3"
  }
 },
 "nbformat": 4,
 "nbformat_minor": 4
}
