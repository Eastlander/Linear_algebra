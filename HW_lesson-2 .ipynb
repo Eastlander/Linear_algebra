{
 "cells": [
  {
   "cell_type": "code",
   "execution_count": 1,
   "metadata": {},
   "outputs": [],
   "source": [
    "import numpy as np"
   ]
  },
  {
   "cell_type": "markdown",
   "metadata": {},
   "source": [
    "### Часть 1"
   ]
  },
  {
   "cell_type": "markdown",
   "metadata": {},
   "source": [
    "#### Установить, какие произведения матриц $AB$ и $BA$ определены, и найти размерности полученных матриц:\n",
    "\n",
    "   а) $A$ — матрица $4\\times 2$, $B$ — матрица $4\\times 2$;\n",
    "    \n",
    "   б) $A$ — матрица $2\\times 5$, $B$ — матрица $5\\times 3$;\n",
    "    \n",
    "   в) $A$ — матрица $8\\times 3$, $B$ — матрица $3\\times 8$;\n",
    "    \n",
    "   г) $A$ — квадратная матрица $4\\times 4$, $B$ — квадратная матрица $4\\times 4$."
   ]
  },
  {
   "cell_type": "markdown",
   "metadata": {},
   "source": [
    "**а)**\n",
    "\n",
    "Матрица А: $m = 4$, $n = 2$\n",
    "\n",
    "Матрица B: $m = 4$, $n = 2$"
   ]
  },
  {
   "cell_type": "markdown",
   "metadata": {},
   "source": [
    "$A \\cdot B$ не определено, т.к. $n_A \\neq m_B$\n",
    "\n",
    "$B \\cdot A$ не определено, т.к. $n_B \\neq m_A$"
   ]
  },
  {
   "cell_type": "code",
   "execution_count": 2,
   "metadata": {},
   "outputs": [
    {
     "name": "stdout",
     "output_type": "stream",
     "text": [
      "Матрица A\n",
      "[[64 37]\n",
      " [57 53]\n",
      " [23 46]\n",
      " [69 37]]\n",
      "Матрица B\n",
      "[[ 2 54]\n",
      " [63 24]\n",
      " [79 72]\n",
      " [40 34]]\n"
     ]
    },
    {
     "ename": "ValueError",
     "evalue": "shapes (4,2) and (4,2) not aligned: 2 (dim 1) != 4 (dim 0)",
     "output_type": "error",
     "traceback": [
      "\u001b[1;31m---------------------------------------------------------------------------\u001b[0m",
      "\u001b[1;31mValueError\u001b[0m                                Traceback (most recent call last)",
      "\u001b[1;32m<ipython-input-2-76c00c514cf4>\u001b[0m in \u001b[0;36m<module>\u001b[1;34m\u001b[0m\n\u001b[0;32m      4\u001b[0m \u001b[0mprint\u001b[0m\u001b[1;33m(\u001b[0m\u001b[1;34mf'Матрица A\\n{A}'\u001b[0m\u001b[1;33m)\u001b[0m\u001b[1;33m\u001b[0m\u001b[1;33m\u001b[0m\u001b[0m\n\u001b[0;32m      5\u001b[0m \u001b[0mprint\u001b[0m\u001b[1;33m(\u001b[0m\u001b[1;34mf'Матрица B\\n{B}'\u001b[0m\u001b[1;33m)\u001b[0m\u001b[1;33m\u001b[0m\u001b[1;33m\u001b[0m\u001b[0m\n\u001b[1;32m----> 6\u001b[1;33m \u001b[0mprint\u001b[0m\u001b[1;33m(\u001b[0m\u001b[1;34mf'Матрица AB\\n{np.dot(A, B)}'\u001b[0m\u001b[1;33m)\u001b[0m\u001b[1;33m\u001b[0m\u001b[1;33m\u001b[0m\u001b[0m\n\u001b[0m\u001b[0;32m      7\u001b[0m \u001b[0mprint\u001b[0m\u001b[1;33m(\u001b[0m\u001b[1;34mf'Матрица BA\\n{np.dot(B, A)}'\u001b[0m\u001b[1;33m)\u001b[0m\u001b[1;33m\u001b[0m\u001b[1;33m\u001b[0m\u001b[0m\n",
      "\u001b[1;32m<__array_function__ internals>\u001b[0m in \u001b[0;36mdot\u001b[1;34m(*args, **kwargs)\u001b[0m\n",
      "\u001b[1;31mValueError\u001b[0m: shapes (4,2) and (4,2) not aligned: 2 (dim 1) != 4 (dim 0)"
     ]
    }
   ],
   "source": [
    "A = np.random.randint(100, size=(4,2))\n",
    "B = np.random.randint(100, size=(4,2))\n",
    "\n",
    "print(f'Матрица A\\n{A}')\n",
    "print(f'Матрица B\\n{B}')\n",
    "print(f'Матрица AB\\n{np.dot(A, B)}')\n",
    "print(f'Матрица BA\\n{np.dot(B, A)}')"
   ]
  },
  {
   "cell_type": "markdown",
   "metadata": {},
   "source": [
    "Как видно, python выдаёт соответствующую ошибку."
   ]
  },
  {
   "cell_type": "markdown",
   "metadata": {},
   "source": [
    "**б)**\n",
    "\n",
    "Матрица А: $m = 2$, $n = 5$\n",
    "\n",
    "Матрица B: $m = 5$, $n = 3$"
   ]
  },
  {
   "cell_type": "markdown",
   "metadata": {},
   "source": [
    "$A \\cdot B$ определено, т.к. $n_A = m_B$, размерность $AB$ равна $2 x 3$\n",
    "\n",
    "$B \\cdot A$ не определено, т.к. $n_B \\neq m_A$"
   ]
  },
  {
   "cell_type": "code",
   "execution_count": 3,
   "metadata": {},
   "outputs": [],
   "source": [
    "A = np.random.randint(100, size=(2,5))\n",
    "B = np.random.randint(100, size=(5,3))"
   ]
  },
  {
   "cell_type": "code",
   "execution_count": 4,
   "metadata": {},
   "outputs": [
    {
     "name": "stdout",
     "output_type": "stream",
     "text": [
      "Матрица A\n",
      "[[17 48 68 44 38]\n",
      " [65 63 89 59 44]]\n",
      "Матрица B\n",
      "[[39 10 78]\n",
      " [12 65 20]\n",
      " [77 93 76]\n",
      " [88 87 24]\n",
      " [61 36  0]]\n",
      "Матрица AB\n",
      "[[12665 14810  8510]\n",
      " [18020 19739 14510]]\n"
     ]
    },
    {
     "ename": "ValueError",
     "evalue": "shapes (5,3) and (2,5) not aligned: 3 (dim 1) != 2 (dim 0)",
     "output_type": "error",
     "traceback": [
      "\u001b[1;31m---------------------------------------------------------------------------\u001b[0m",
      "\u001b[1;31mValueError\u001b[0m                                Traceback (most recent call last)",
      "\u001b[1;32m<ipython-input-4-ddc0fe5d7009>\u001b[0m in \u001b[0;36m<module>\u001b[1;34m\u001b[0m\n\u001b[0;32m      2\u001b[0m \u001b[0mprint\u001b[0m\u001b[1;33m(\u001b[0m\u001b[1;34mf'Матрица B\\n{B}'\u001b[0m\u001b[1;33m)\u001b[0m\u001b[1;33m\u001b[0m\u001b[1;33m\u001b[0m\u001b[0m\n\u001b[0;32m      3\u001b[0m \u001b[0mprint\u001b[0m\u001b[1;33m(\u001b[0m\u001b[1;34mf'Матрица AB\\n{np.dot(A, B)}'\u001b[0m\u001b[1;33m)\u001b[0m\u001b[1;33m\u001b[0m\u001b[1;33m\u001b[0m\u001b[0m\n\u001b[1;32m----> 4\u001b[1;33m \u001b[0mprint\u001b[0m\u001b[1;33m(\u001b[0m\u001b[1;34mf'Матрица BA\\n{np.dot(B, A)}'\u001b[0m\u001b[1;33m)\u001b[0m\u001b[1;33m\u001b[0m\u001b[1;33m\u001b[0m\u001b[0m\n\u001b[0m",
      "\u001b[1;32m<__array_function__ internals>\u001b[0m in \u001b[0;36mdot\u001b[1;34m(*args, **kwargs)\u001b[0m\n",
      "\u001b[1;31mValueError\u001b[0m: shapes (5,3) and (2,5) not aligned: 3 (dim 1) != 2 (dim 0)"
     ]
    }
   ],
   "source": [
    "print(f'Матрица A\\n{A}')\n",
    "print(f'Матрица B\\n{B}')\n",
    "print(f'Матрица AB\\n{np.dot(A, B)}')\n",
    "print(f'Матрица BA\\n{np.dot(B, A)}')"
   ]
  },
  {
   "cell_type": "markdown",
   "metadata": {},
   "source": [
    "Как видно, python выдаёт соответствующую ошибку."
   ]
  },
  {
   "cell_type": "markdown",
   "metadata": {},
   "source": [
    "**в)**\n",
    "\n",
    "Матрица А: $m = 8$, $n = 3$\n",
    "\n",
    "Матрица B: $m = 3$, $n = 8$"
   ]
  },
  {
   "cell_type": "markdown",
   "metadata": {},
   "source": [
    "$A \\cdot B$ определено, т.к. $n_A = m_B$, размерность $AB$ равна $8 x 8$\n",
    "\n",
    "$B \\cdot A$ определено, т.к. $n_B = m_A$, размерность $AB$ равна $3 x 3$"
   ]
  },
  {
   "cell_type": "code",
   "execution_count": 5,
   "metadata": {},
   "outputs": [
    {
     "name": "stdout",
     "output_type": "stream",
     "text": [
      "Матрица A\n",
      "[[42 73 32]\n",
      " [ 9 99 16]\n",
      " [58 68 73]\n",
      " [97 19 93]\n",
      " [79 98 24]\n",
      " [65 73  5]\n",
      " [40 11 97]\n",
      " [77 86 65]]\n",
      "Матрица B\n",
      "[[96 35 99 34 12 97 93 81]\n",
      " [46 17 66 45  8 70 92 89]\n",
      " [79 57 54 39 68 55 30 54]]\n",
      "Матрица AB\n",
      "[[ 9918  4535 10704  5961  3264 10944 11582 11627]\n",
      " [ 6682  2910  8289  5385  1988  8683 10425 10404]\n",
      " [14463  7347 14172  7879  6204 14401 13840 14692]\n",
      " [17533  9019 15879  7780  7640 15854 13559 14570]\n",
      " [13988  5799 15585  8032  3364 15843 17083 16417]\n",
      " [ 9993  3801 11523  5690  1704 11690 12911 12032]\n",
      " [12009  7116  9924  5638  7164  9985  7642  9457]\n",
      " [16483  7862 16809  9023  6032 17064 17023 17401]]\n",
      "Матрица BA\n",
      "[[30597 34097 29080]\n",
      " [25993 24944 25998]\n",
      " [25051 31476 19336]]\n"
     ]
    }
   ],
   "source": [
    "A = np.random.randint(100, size=(8,3))\n",
    "B = np.random.randint(100, size=(3,8))\n",
    "\n",
    "print(f'Матрица A\\n{A}')\n",
    "print(f'Матрица B\\n{B}')\n",
    "print(f'Матрица AB\\n{np.dot(A, B)}')\n",
    "print(f'Матрица BA\\n{np.dot(B, A)}')"
   ]
  },
  {
   "cell_type": "markdown",
   "metadata": {},
   "source": [
    "**г)**\n",
    "\n",
    "Матрица А: $m = 4$, $n = 4$\n",
    "\n",
    "Матрица B: $m = 4$, $n = 4$"
   ]
  },
  {
   "cell_type": "markdown",
   "metadata": {},
   "source": [
    "$A \\cdot B$ определено, т.к. $n_A = m_B$, размерность $AB$ равна $4 x 4$\n",
    "\n",
    "$B \\cdot A$ определено, т.к. $n_B = m_A$, размерность $AB$ равна $4 x 4$"
   ]
  },
  {
   "cell_type": "code",
   "execution_count": 6,
   "metadata": {},
   "outputs": [
    {
     "name": "stdout",
     "output_type": "stream",
     "text": [
      "Матрица A\n",
      "[[88 23 50 30]\n",
      " [80 14 28 88]\n",
      " [59 45 88 99]\n",
      " [ 4  3 96 67]]\n",
      "Матрица B\n",
      "[[69 18 13 90]\n",
      " [21 99 50 93]\n",
      " [30  2  0 67]\n",
      " [60 80 85 96]]\n",
      "Матрица AB\n",
      "[[ 9855  6361  4844 16289]\n",
      " [11934  9922  9220 18826]\n",
      " [13596 13613 11432 24895]\n",
      " [ 7239  5921  5897 13503]]\n",
      "Матрица BA\n",
      "[[ 8639  2694 13738 10971]\n",
      " [13090  4398 17150 20523]\n",
      " [ 3068   919  7988  5565]\n",
      " [17079  6613 21936 23687]]\n"
     ]
    }
   ],
   "source": [
    "A = np.random.randint(100, size=(4,4))\n",
    "B = np.random.randint(100, size=(4,4))\n",
    "\n",
    "print(f'Матрица A\\n{A}')\n",
    "print(f'Матрица B\\n{B}')\n",
    "print(f'Матрица AB\\n{np.dot(A, B)}')\n",
    "print(f'Матрица BA\\n{np.dot(B, A)}')"
   ]
  },
  {
   "cell_type": "markdown",
   "metadata": {},
   "source": [
    "#### 2. Найти сумму и произведение матриц $A=\\begin{pmatrix}\n",
    "1 & -2\\\\ \n",
    "3 & 0\n",
    "\\end{pmatrix}$ и $B=\\begin{pmatrix}\n",
    "4 & -1\\\\ \n",
    "0 & 5\n",
    "\\end{pmatrix}.$"
   ]
  },
  {
   "cell_type": "markdown",
   "metadata": {},
   "source": [
    "Сумма (поэлементно складываем значения, т.е. значение из 1-й строки 1-го столбца 1-й матрицы со значением из 1-й строки 1-го столбца 2-й матрицы и т.д.):\n",
    "\n",
    "$$\\begin{pmatrix}\n",
    "1 & -2\\\\ \n",
    "3 & 0\n",
    "\\end{pmatrix} + \\begin{pmatrix}\n",
    "4 & -1\\\\ \n",
    "0 & 5\n",
    "\\end{pmatrix} = \\begin{pmatrix}\n",
    "5 & -3\\\\ \n",
    "3 & 5\n",
    "\\end{pmatrix}.$$"
   ]
  },
  {
   "cell_type": "markdown",
   "metadata": {},
   "source": [
    "Произведение (произведение значений 1-й строки 1-го столбца 1-й матрицы и 1-й строки 1-го столбца 2-й матрицы складываем спроизведением значений 1-й строки 2-го столбца 1-й матрицы и 2-й строки 1-го столбца 2-й матрицы и т.д.):\n",
    "$$A\\cdot B=\\begin{pmatrix}\n",
    "1\\cdot4+(-2)\\cdot0 & 1\\cdot(-1)+(-2)\\cdot5\\\\ \n",
    "3\\cdot4+0\\cdot0 & 3\\cdot(-1)+0\\cdot5\n",
    "\\end{pmatrix}=\\begin{pmatrix}\n",
    "4 & -11\\\\ \n",
    "12 & -3\n",
    "\\end{pmatrix}.$$\n",
    "\n",
    "$$B\\cdot A=\\begin{pmatrix}\n",
    "4\\cdot1+(-1)\\cdot3 & 4\\cdot(-2)+(-1)\\cdot0\\\\ \n",
    "0\\cdot1+5\\cdot3 & 0\\cdot(-2)+5\\cdot0\n",
    "\\end{pmatrix}=\\begin{pmatrix}\n",
    "1 & -8\\\\ \n",
    "15 & 0\n",
    "\\end{pmatrix}.$$"
   ]
  },
  {
   "cell_type": "code",
   "execution_count": 7,
   "metadata": {},
   "outputs": [
    {
     "name": "stdout",
     "output_type": "stream",
     "text": [
      "Матрица A\n",
      "[[ 1 -2]\n",
      " [ 3  0]]\n",
      "Матрица B\n",
      "[[ 4 -1]\n",
      " [ 0  5]]\n",
      "А + В\n",
      "[[ 5 -3]\n",
      " [ 3  5]]\n",
      "Матрица AB\n",
      "[[  4 -11]\n",
      " [ 12  -3]]\n",
      "Матрица BA\n",
      "[[ 1 -8]\n",
      " [15  0]]\n"
     ]
    }
   ],
   "source": [
    "A = np.array([[1, -2], [3, 0]])\n",
    "B = np.array([[4, -1], [0, 5]])\n",
    "\n",
    "print(f'Матрица A\\n{A}')\n",
    "print(f'Матрица B\\n{B}')\n",
    "print(f'А + В\\n{A + B}')\n",
    "print(f'Матрица AB\\n{np.dot(A, B)}')\n",
    "print(f'Матрица BA\\n{np.dot(B, A)}')"
   ]
  },
  {
   "cell_type": "markdown",
   "metadata": {},
   "source": [
    "#### 3. Из закономерностей сложения и умножения матриц на число можно сделать вывод, что матрицы одного размера образуют линейное пространство. Вычислить линейную комбинацию $3A-2B+4C$ для матриц $A=\\begin{pmatrix}\n",
    "1 & 7\\\\ \n",
    "3 & -6\n",
    "\\end{pmatrix}$, $B=\\begin{pmatrix}\n",
    "0 & 5\\\\ \n",
    "2 & -1\n",
    "\\end{pmatrix}$, $C=\\begin{pmatrix}\n",
    "2 & -4\\\\ \n",
    "1 & 1\n",
    "\\end{pmatrix}.$"
   ]
  },
  {
   "cell_type": "markdown",
   "metadata": {},
   "source": [
    "$$3\\cdot \\begin{pmatrix}\n",
    "1 & 7\\\\ \n",
    "3 & -6\n",
    "\\end{pmatrix} - 2\\cdot \\begin{pmatrix}\n",
    "0 & 5\\\\ \n",
    "2 & -1\n",
    "\\end{pmatrix} + 4\\cdot \\begin{pmatrix}\n",
    "2 & -4\\\\ \n",
    "1 & 1\n",
    "\\end{pmatrix} = \\begin{pmatrix}\n",
    "3\\cdot 1 & 3\\cdot 7\\\\ \n",
    "3\\cdot 3 & 3\\cdot (-6)\n",
    "\\end{pmatrix} - \\begin{pmatrix}\n",
    "2\\cdot 0 & 2\\cdot 5\\\\ \n",
    "2\\cdot 2 & 2\\cdot (-1)\n",
    "\\end{pmatrix} + \\begin{pmatrix}\n",
    "4\\cdot 2 & 4\\cdot (-4)\\\\ \n",
    "4\\cdot 1 & 4\\cdot 1\n",
    "\\end{pmatrix}= \\begin{pmatrix}\n",
    "11 & -5\\\\ \n",
    "9 & -12\n",
    "\\end{pmatrix}.$$"
   ]
  },
  {
   "cell_type": "code",
   "execution_count": 8,
   "metadata": {},
   "outputs": [
    {
     "name": "stdout",
     "output_type": "stream",
     "text": [
      "Линейная комбинация 3А - 2В + 4С для матриц А, В и С равна\n",
      "[[ 11  -5]\n",
      " [  9 -12]]\n"
     ]
    }
   ],
   "source": [
    "A = np.array([[1, 7], [3, -6]])\n",
    "B = np.array([[0, 5], [2, -1]])\n",
    "C = np. array([[2, -4], [1, 1]])\n",
    "\n",
    "print(f'Линейная комбинация 3А - 2В + 4С для матриц А, В и С равна\\n{3*A - 2*B + 4*C}')"
   ]
  },
  {
   "cell_type": "markdown",
   "metadata": {},
   "source": [
    "#### 4. Дана матрица $A=\\begin{pmatrix}\n",
    "4 & 1\\\\ \n",
    "5 & -2\\\\ \n",
    "2 & 3\n",
    "\\end{pmatrix}$.\n",
    "Вычислить $AA^{T}$ и $A^{T}A$."
   ]
  },
  {
   "cell_type": "code",
   "execution_count": 9,
   "metadata": {},
   "outputs": [
    {
     "name": "stdout",
     "output_type": "stream",
     "text": [
      "Матрица A\n",
      "[[ 4  1]\n",
      " [ 5 -2]\n",
      " [ 2  3]]\n",
      "Матрица A_t\n",
      "[[ 4  5  2]\n",
      " [ 1 -2  3]]\n"
     ]
    }
   ],
   "source": [
    "A = np.array([[4,1], [5, -2], [2, 3]])\n",
    "print(f'Матрица A\\n{A}')\n",
    "A_t = A.T\n",
    "print(f'Матрица A_t\\n{A_t}')"
   ]
  },
  {
   "cell_type": "code",
   "execution_count": 10,
   "metadata": {},
   "outputs": [
    {
     "name": "stdout",
     "output_type": "stream",
     "text": [
      "Произведение матриц А и A_t\n",
      "[[17 18 11]\n",
      " [18 29  4]\n",
      " [11  4 13]]\n",
      "Произведение матриц A_t и А\n",
      "[[45  0]\n",
      " [ 0 14]]\n"
     ]
    }
   ],
   "source": [
    "print(f'Произведение матриц А и A_t\\n{A @ A_t}')\n",
    "print(f'Произведение матриц A_t и А\\n{A_t @ A}')"
   ]
  },
  {
   "cell_type": "markdown",
   "metadata": {},
   "source": [
    "#### 5*. Написать на Python функцию для перемножения двух произвольных матриц, не используя NumPy"
   ]
  },
  {
   "cell_type": "code",
   "execution_count": 11,
   "metadata": {},
   "outputs": [
    {
     "name": "stdout",
     "output_type": "stream",
     "text": [
      "Строк в матрице 1: 2\n",
      "Столбцов в матрице 1: 3\n",
      "Строк в матрице 2: 3\n",
      "Столбцов в матрице 2: 4\n",
      "Вводим элементы матрицы A\n",
      "5\n",
      "9\n",
      "10\n",
      "-4\n",
      "5\n",
      "3\n",
      "A = \n",
      "[5, 9, 10]\n",
      "[-4, 5, 3]\n",
      "Вводим элементы матрицы B\n",
      "6\n",
      "9\n",
      "11\n",
      "-4\n",
      "-3\n",
      "8\n",
      "28\n",
      "5\n",
      "1\n",
      "-9\n",
      "7\n",
      "12\n",
      "B = \n",
      "[6, 9, 11, -4]\n",
      "[-3, 8, 28, 5]\n",
      "[1, -9, 7, 12]\n",
      "Произведение матриц равно: [[13, 27, 377, 145], [-36, -23, 117, 77]]\n"
     ]
    }
   ],
   "source": [
    "def matrix_product():\n",
    "    # Вводим размер матриц\n",
    "    r1 = int(input('Строк в матрице 1: '))\n",
    "    c1 = int(input('Столбцов в матрице 1: '))\n",
    "    r2 = int(input('Строк в матрице 2: '))\n",
    "    c2 = int(input('Столбцов в матрице 2: '))\n",
    "\n",
    "    print('Вводим элементы матрицы A')\n",
    "    # Вводим элементы матрицы A\n",
    "    A = []\n",
    "    for i in range(r1):\n",
    "        A.append([])\n",
    "        for j in range(c1):\n",
    "            A[i].append(int(input()))\n",
    "    print('A = ')\n",
    "    for q in A:\n",
    "        print(q)\n",
    "    print('Вводим элементы матрицы B')\n",
    "    # Вводим элементы матрицы B\n",
    "    B = []\n",
    "    for q in range(r2):\n",
    "        B.append([])\n",
    "        for w in range(c2):\n",
    "            B[q].append(int(input()))\n",
    "    print('B = ')\n",
    "    for q in B:\n",
    "        print(q)\n",
    "\n",
    "    # Умножение\n",
    "    s = 0  # сумма\n",
    "    t = []  # временная матрица\n",
    "    C = []  # конечная матрица\n",
    "    if len(B) != len(A[0]):\n",
    "        print('Матрицы не могут быть перемножены')\n",
    "    else:\n",
    "        r1 = len(A)  # количество строк в первой матрице\n",
    "        c1 = len(A[0])  # количество столбцов в первой матрице\n",
    "        r2 = c1  # количество строк во второй матрице\n",
    "        c2 = len(B[0])  # количество столбцов во второй матрице\n",
    "        for z in range(0, r1):\n",
    "            for j in range(0, c2):\n",
    "                for i in range(0, c1):\n",
    "                    s = s + A[z][i] * B[i][j]\n",
    "                t.append(s)\n",
    "                s = 0\n",
    "            C.append(t)\n",
    "            t = []\n",
    "    print(f'Произведение матриц равно: {C}')\n",
    "\n",
    "matrix_product()"
   ]
  },
  {
   "cell_type": "markdown",
   "metadata": {},
   "source": [
    "### Часть 2"
   ]
  },
  {
   "cell_type": "markdown",
   "metadata": {},
   "source": [
    "#### 1. Вычислить определитель:\n",
    "\n",
    "   a)\n",
    "\n",
    "$$\\begin{vmatrix}\n",
    "sinx & -cosx\\\\ \n",
    "cosx & sinx\n",
    "\\end{vmatrix};$$\n",
    "\n",
    "   б)\n",
    "    \n",
    "$$\\begin{vmatrix}\n",
    "4 & 2 & 3\\\\ \n",
    "0 & 5 & 1\\\\ \n",
    "0 & 0 & 9\n",
    "\\end{vmatrix};$$\n",
    "    \n",
    "   в)\n",
    "\n",
    "$$\\begin{vmatrix}\n",
    "1 & 2 & 3\\\\ \n",
    "4 & 5 & 6\\\\ \n",
    "7 & 8 & 9\n",
    "\\end{vmatrix}.$$"
   ]
  },
  {
   "cell_type": "markdown",
   "metadata": {},
   "source": [
    "а) $$det A = sin x\\cdot sin x - (-cos x)\\cdot cos x = sin^2 x + cos^2 x = 1$$"
   ]
  },
  {
   "cell_type": "markdown",
   "metadata": {},
   "source": [
    "б)\n",
    "\n",
    "$det A = (-1)^2 \\cdot 4\\cdot\n",
    "$$\\begin{vmatrix}\n",
    "5 & 1\\\\ \n",
    "9 & 0\n",
    "\\end{vmatrix};$$ + 0 + 0 = 4\\cdot (5\\cdot 9 - 0) = 180$"
   ]
  },
  {
   "cell_type": "code",
   "execution_count": 12,
   "metadata": {},
   "outputs": [
    {
     "name": "stdout",
     "output_type": "stream",
     "text": [
      "Определитель матрицы равен:\n",
      "180\n"
     ]
    }
   ],
   "source": [
    "A = np.array([[4, 2,3], [0, 5, 1], [0, 0, 9]])\n",
    "print(f'Определитель матрицы равен:\\n{np.linalg.det(A):.0f}')"
   ]
  },
  {
   "cell_type": "markdown",
   "metadata": {},
   "source": [
    "в)\n",
    "\n",
    "$det A = (-1)^2 \\cdot 1\\cdot\n",
    "$$\\begin{vmatrix}\n",
    "5 & 6\\\\ \n",
    "8 & 9\n",
    "\\end{vmatrix} + (-1)^3 \\cdot 4\\cdot\n",
    "$$\\begin{vmatrix}\n",
    "2 & 3\\\\ \n",
    "8 & 9\n",
    "\\end{vmatrix} + (-1)^4 \\cdot 7\\cdot\n",
    "$$\\begin{vmatrix}\n",
    "2 & 3\\\\ \n",
    "5 & 6\n",
    "\\end{vmatrix} = (5\\cdot 9 - 6\\cdot 8) - 4\\cdot (2\\cdot 9 - 3\\cdot 8) + 7\\cdot (2\\cdot 6 - 3\\cdot 5) = 0$"
   ]
  },
  {
   "cell_type": "code",
   "execution_count": 13,
   "metadata": {},
   "outputs": [
    {
     "name": "stdout",
     "output_type": "stream",
     "text": [
      "Определитель матрицы равен:\n",
      "0\n"
     ]
    }
   ],
   "source": [
    "A = np.array([[1, 2, 3], [4, 5, 6], [7, 8, 9]])\n",
    "print(f'Определитель матрицы равен:\\n{np.linalg.det(A):.0f}')"
   ]
  },
  {
   "cell_type": "markdown",
   "metadata": {},
   "source": [
    "#### 2. Определитель матрицы $A$ равен $4$. Найти:\n",
    "\n",
    "   а) $det(A^{2})$;\n",
    "    \n",
    "   б) $det(A^{T})$;\n",
    "    \n",
    "   в) $det(2A)$."
   ]
  },
  {
   "cell_type": "markdown",
   "metadata": {},
   "source": [
    "а) $det(A^{2}) = det(A\\cdot A) = det(A)\\cdot det(A) = 16$ *по 9-му свойству определителя*\n",
    "\n",
    "По определению определителя матрицы, матрица А является квадратной."
   ]
  },
  {
   "cell_type": "markdown",
   "metadata": {},
   "source": [
    "б) $det(A^{T}) = det(A) = 4$ *по 1-му свойству определителя*"
   ]
  },
  {
   "cell_type": "markdown",
   "metadata": {},
   "source": [
    "в) $det(2A) = 2^{n}det(A) = 2^{n+2}$ *по 2-му свойству определителя*\n",
    "где $n$ - количество столбцов в матрице $A$"
   ]
  },
  {
   "cell_type": "markdown",
   "metadata": {},
   "source": [
    "#### 3. Доказать, что матрица\n",
    "\n",
    "$$\\begin{pmatrix}\n",
    "-2 & 7 & -3\\\\ \n",
    "4 & -14 & 6\\\\ \n",
    "-3 & 7 & 13\n",
    "\\end{pmatrix}$$\n",
    "   \n",
    "вырожденная."
   ]
  },
  {
   "cell_type": "markdown",
   "metadata": {},
   "source": [
    "Матрица называется вырожденной, если её определитель равен нулю.\n",
    "Поскольку выше уже был ручной подсчёт определителя, воспользуемся numpy."
   ]
  },
  {
   "cell_type": "code",
   "execution_count": 14,
   "metadata": {},
   "outputs": [
    {
     "name": "stdout",
     "output_type": "stream",
     "text": [
      "Определитель матрицы равен:\n",
      "0\n"
     ]
    }
   ],
   "source": [
    "A = np.array([[-2, 7, -3], [4, -14, 6], [-3, 7, 13]])\n",
    "print(f'Определитель матрицы равен:\\n{np.linalg.det(A):.0f}')"
   ]
  },
  {
   "cell_type": "markdown",
   "metadata": {},
   "source": [
    "**Ответ:** так как $det A = 0$, матрица $A$ является вырожденной."
   ]
  },
  {
   "cell_type": "markdown",
   "metadata": {},
   "source": [
    "#### 4. Найти ранг матрицы:\n",
    "\n",
    "   а) $\\begin{pmatrix}\n",
    "1 & 2 & 3\\\\ \n",
    "1 & 1 & 1\\\\ \n",
    "2 & 3 & 4\n",
    "\\end{pmatrix};$\n",
    "\n",
    "   б) $\\begin{pmatrix}\n",
    "0 & 0 & 2 & 1\\\\ \n",
    "0 & 0 & 2 & 2\\\\ \n",
    "0 & 0 & 4 & 3\\\\ \n",
    "2 & 3 & 5 & 6\n",
    "\\end{pmatrix}.$"
   ]
  },
  {
   "cell_type": "markdown",
   "metadata": {},
   "source": [
    "а) Как можно заметить, третья строка является суммой двух верхних, следовательно, её можно откинуть.\n",
    "Для вычисления ранга приведем матрицу к ступенчатому виду, используя элементарные преобразования над строками и столбцами матрицы.\n",
    "от 2 строки отнимаем 1 строку:\n",
    "$\\begin{pmatrix}\n",
    "1 & 2 & 3\\\\ \n",
    "0 & -1 & -2\n",
    "\\end{pmatrix};$"
   ]
  },
  {
   "cell_type": "markdown",
   "metadata": {},
   "source": [
    "И делим её на -1:\n",
    "$\\begin{pmatrix}\n",
    "1 & 2 & 3\\\\ \n",
    "0 & 1 & 2\n",
    "\\end{pmatrix};$"
   ]
  },
  {
   "cell_type": "markdown",
   "metadata": {},
   "source": [
    "**Ответ:** Так как ненулевых строк 2, ранг матрицы равен 2"
   ]
  },
  {
   "cell_type": "code",
   "execution_count": 15,
   "metadata": {},
   "outputs": [
    {
     "data": {
      "text/plain": [
       "2"
      ]
     },
     "execution_count": 15,
     "metadata": {},
     "output_type": "execute_result"
    }
   ],
   "source": [
    "A = np.array([[1, 2, 3], [1, 1, 1], [2, 3, 4]])\n",
    "np.linalg.matrix_rank(A)"
   ]
  },
  {
   "cell_type": "markdown",
   "metadata": {},
   "source": [
    "б) Как и в предыдущем примере, третья строка является суммой двух верхних, следовательно, её можно откинуть.\n",
    "Значит $A`$ имеет вид $\\begin{pmatrix}\n",
    "0 & 0 & 2 & 1\\\\ \n",
    "0 & 0 & 2 & 2\\\\  \n",
    "2 & 3 & 5 & 6\n",
    "\\end{pmatrix}.$"
   ]
  },
  {
   "cell_type": "markdown",
   "metadata": {},
   "source": [
    "Для вычисления ранга приведем матрицу к ступенчатому виду, используя элементарные преобразования над строками и столбцами матрицы."
   ]
  },
  {
   "cell_type": "markdown",
   "metadata": {},
   "source": [
    "Делим 3-ю строку на 2:\n",
    "$\\begin{pmatrix}\n",
    "0 & 0 & 2 & 1\\\\ \n",
    "0 & 0 & 2 & 2\\\\  \n",
    "1 & 1.5 & 2.5 & 3\n",
    "\\end{pmatrix}.$"
   ]
  },
  {
   "cell_type": "markdown",
   "metadata": {},
   "source": [
    "Делим 2-ю строку на 2:\n",
    "$\\begin{pmatrix}\n",
    "0 & 0 & 2 & 1\\\\ \n",
    "0 & 0 & 1 & 1\\\\  \n",
    "1 & 1.5 & 2.5 & 3\n",
    "\\end{pmatrix}.$"
   ]
  },
  {
   "cell_type": "markdown",
   "metadata": {},
   "source": [
    "От 1-й строки отнимаем 2 строку, умноженную на 2: $\\begin{pmatrix}\n",
    "0 & 0 & 0 & -1\\\\ \n",
    "0 & 0 & 1 & 1\\\\  \n",
    "1 & 1.5 & 2.5 & 3\n",
    "\\end{pmatrix}.$\n",
    "\n",
    "И умеожаем её на -1: $\\begin{pmatrix}\n",
    "0 & 0 & 0 & 1\\\\ \n",
    "0 & 0 & 1 & 1\\\\  \n",
    "1 & 1.5 & 2.5 & 3\n",
    "\\end{pmatrix}.$"
   ]
  },
  {
   "cell_type": "markdown",
   "metadata": {},
   "source": [
    "**Ответ:** так как ненулевых строк три, то ранг матрицы равен 3."
   ]
  },
  {
   "cell_type": "code",
   "execution_count": 16,
   "metadata": {},
   "outputs": [
    {
     "data": {
      "text/plain": [
       "3"
      ]
     },
     "execution_count": 16,
     "metadata": {},
     "output_type": "execute_result"
    }
   ],
   "source": [
    "A = np.array([[0, 0, 2,1], [0, 0, 2, 2], [0, 0, 4, 3], [2, 3, 5, 6]])\n",
    "np.linalg.matrix_rank(A)"
   ]
  },
  {
   "cell_type": "code",
   "execution_count": null,
   "metadata": {},
   "outputs": [],
   "source": []
  }
 ],
 "metadata": {
  "kernelspec": {
   "display_name": "Python 3",
   "language": "python",
   "name": "python3"
  },
  "language_info": {
   "codemirror_mode": {
    "name": "ipython",
    "version": 3
   },
   "file_extension": ".py",
   "mimetype": "text/x-python",
   "name": "python",
   "nbconvert_exporter": "python",
   "pygments_lexer": "ipython3",
   "version": "3.8.3"
  }
 },
 "nbformat": 4,
 "nbformat_minor": 4
}
