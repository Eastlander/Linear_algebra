{
 "cells": [
  {
   "cell_type": "markdown",
   "metadata": {},
   "source": [
    "### Часть 1"
   ]
  },
  {
   "cell_type": "code",
   "execution_count": 1,
   "metadata": {},
   "outputs": [],
   "source": [
    "import numpy as np"
   ]
  },
  {
   "cell_type": "markdown",
   "metadata": {},
   "source": [
    "#### 1. Решить систему уравнений методом Гаусса:\n",
    "\n",
    "$$\\begin{cases}\n",
    "x_{1}+x_{2}-x_{3}-2x_{4}=0, \\\\\n",
    "2x_{1}+x_{2}-x_{3}+x_{4}=-2, \\\\\n",
    "x_{1}+x_{2}-3x_{3}+x_{4}=4.\n",
    "\\end{cases}$$"
   ]
  },
  {
   "cell_type": "markdown",
   "metadata": {},
   "source": [
    "Запишем расширенную матрицу системы:\n",
    "\n",
    "$\\begin{pmatrix}\n",
    "\\left.\\begin{matrix}\n",
    "1 & 1 & -1 & -2 \\\\ \n",
    "2 & 1 & -1 & 1 \\\\\n",
    "1 & 1 & -3 & 1\n",
    "\\end{matrix}\\right|\n",
    "\\begin{matrix}\n",
    "0\\\\ \n",
    "-2\\\\\n",
    "4\n",
    "\\end{matrix}\n",
    "\\end{pmatrix}$"
   ]
  },
  {
   "cell_type": "markdown",
   "metadata": {},
   "source": [
    "Вычтем из третей строки первую:\n",
    "\n",
    "$\\begin{pmatrix}\n",
    "\\left.\\begin{matrix}\n",
    "1 & 1 & -1 & -2 \\\\ \n",
    "2 & 1 & -1 & 1 \\\\\n",
    "0 & 0 & -2 & 3\n",
    "\\end{matrix}\\right|\n",
    "\\begin{matrix}\n",
    "0\\\\ \n",
    "-2\\\\\n",
    "4\n",
    "\\end{matrix}\n",
    "\\end{pmatrix}$"
   ]
  },
  {
   "cell_type": "markdown",
   "metadata": {},
   "source": [
    "Далее вычтем из второй строки первую, умноженную на 2:\n",
    "\n",
    "$\\begin{pmatrix}\n",
    "\\left.\\begin{matrix}\n",
    "1 & 1 & -1 & -2 \\\\ \n",
    "0 & -1 & 1 & 5 \\\\\n",
    "0 & 0 & -2 & 3\n",
    "\\end{matrix}\\right|\n",
    "\\begin{matrix}\n",
    "0\\\\ \n",
    "-2\\\\\n",
    "4\n",
    "\\end{matrix}\n",
    "\\end{pmatrix}$"
   ]
  },
  {
   "cell_type": "markdown",
   "metadata": {},
   "source": [
    "Полученная система будет иметь вид:\n",
    "\n",
    "$\\begin{cases}\n",
    "x_{1}+x_{2}-x_{3}-2x_{4}=0, \\\\\n",
    "-x_{2}+x_{3}+5x_{4}=-2, \\\\\n",
    "-2x_{3}+3x_{4}=4.\n",
    "\\end{cases}$"
   ]
  },
  {
   "cell_type": "markdown",
   "metadata": {},
   "source": [
    "Решив третье уравнение, получим:\n",
    "\n",
    "$x_{3} = \\frac{3}{2}x_{4} - 2$\n",
    "\n",
    "Подставляем полученное значение в систему:\n",
    "\n",
    "$-x_{2}+\\frac{3}{2}x_{4} - 2+5x_{4}=-2$\n",
    "\n",
    "$x_{2} = 6.5x_{4}$"
   ]
  },
  {
   "cell_type": "markdown",
   "metadata": {},
   "source": [
    "$x_{1}+6.5x_{4}-\\frac{3}{2}x_{4}-2x_{4}=0$\n",
    "\n",
    "$x_{1} = 3 x_{4}$"
   ]
  },
  {
   "cell_type": "markdown",
   "metadata": {},
   "source": [
    "Производим замену.\n",
    "Система имеет бесконечное число решений, общеее решение выглядит так:\n",
    "    \n",
    "$\\begin{cases}\n",
    "x_{4} = С, \\\\\n",
    "x_{3} = \\frac{3}{2}C - 2, \\\\\n",
    "x_{2} = 6.5C, \\\\\n",
    "x_{1} = 3C.\n",
    "\\end{cases}$"
   ]
  },
  {
   "cell_type": "markdown",
   "metadata": {},
   "source": [
    "Частное решение, например, $C = 0$ будет выглядить так:\n",
    "\n",
    "$\\begin{cases}\n",
    "x_{1} = 0, \\\\\n",
    "x_{2} = 0, \\\\\n",
    "x_{3} = - 2, \\\\\n",
    "x_{4} = 0.\n",
    "\\end{cases}$"
   ]
  },
  {
   "cell_type": "markdown",
   "metadata": {},
   "source": [
    "#### 2. Проверить на совместность и выяснить, сколько решений будет иметь система линейных уравнений:\n",
    "\n",
    "   а) $\\begin{cases}\n",
    "3x_{1}-x_{2}+x_{3}=4, \\\\\n",
    "2x_{1}-5x_{2}-3x_{3}=-17, \\\\\n",
    "x_{1}+x_{2}-x_{3}=0;\n",
    "\\end{cases}$\n",
    "    \n",
    "   б) $\\begin{cases}\n",
    "2x_{1}-4x_{2}+6x_{3}=1, \\\\\n",
    "x_{1}-2x_{2}+3x_{3}=-2, \\\\\n",
    "3x_{1}-6x_{2}+9x_{3}=5;\n",
    "\\end{cases}$\n",
    "    \n",
    "   в) $\\begin{cases}\n",
    "x_{1}+2x_{2}+5x_{3}=4, \\\\\n",
    "3x_{1}+x_{2}-8x_{3}=-2. \n",
    "\\end{cases}$"
   ]
  },
  {
   "cell_type": "code",
   "execution_count": 2,
   "metadata": {},
   "outputs": [
    {
     "name": "stdout",
     "output_type": "stream",
     "text": [
      "Ранг обычной матрицы равен 3\n",
      "Ранг расширенной матрицы равен 3\n"
     ]
    }
   ],
   "source": [
    "# a)\n",
    "\n",
    "A = np.array([[3, -1, 1], [2, -5, -3], [1, 1,-1]])\n",
    "A_ = np.array([[3, -1, 1, 4], [2, -5, -3, -17], [1, 1,-1, 0]])\n",
    "rank_a = np.linalg.matrix_rank(A)\n",
    "rank_a_ = np.linalg.matrix_rank(A_)\n",
    "\n",
    "print(f'Ранг обычной матрицы равен {rank_a}')\n",
    "print(f'Ранг расширенной матрицы равен {rank_a_}')"
   ]
  },
  {
   "cell_type": "markdown",
   "metadata": {},
   "source": [
    "По скольку ранги у обычной и расширенной матриц равны, то СЛАУ совместна."
   ]
  },
  {
   "cell_type": "markdown",
   "metadata": {},
   "source": [
    "Так как $rang A = rang \\widetilde{A} = n$ , где $n$ - кол-во неизвестных, то СЛАУ является определённой (имеет ровно одно решение)."
   ]
  },
  {
   "cell_type": "code",
   "execution_count": 3,
   "metadata": {},
   "outputs": [
    {
     "name": "stdout",
     "output_type": "stream",
     "text": [
      "Ранг обычной матрицы равен 3\n",
      "Ранг расширенной матрицы равен 2\n"
     ]
    }
   ],
   "source": [
    "# б)\n",
    "\n",
    "А = np.array([[2, -4, 6], [1, -2, 3], [3, -6, 9]])\n",
    "A_ = np.array([[2, -4, 6, 1], [1, -2, 3, -2], [3, -6, 9, 5]])\n",
    "rank_a = np.linalg.matrix_rank(A)\n",
    "rank_a_ = np.linalg.matrix_rank(A_)\n",
    "\n",
    "print(f'Ранг обычной матрицы равен {rank_a}')\n",
    "print(f'Ранг расширенной матрицы равен {rank_a_}')"
   ]
  },
  {
   "cell_type": "markdown",
   "metadata": {},
   "source": [
    "Так как $rang A\\neq rang \\widetilde{A}$, то СЛАУ несовместна (не имеет решений)."
   ]
  },
  {
   "cell_type": "code",
   "execution_count": 4,
   "metadata": {},
   "outputs": [
    {
     "name": "stdout",
     "output_type": "stream",
     "text": [
      "Ранг обычной матрицы равен 2\n",
      "Ранг расширенной матрицы равен 2\n"
     ]
    }
   ],
   "source": [
    "# в)\n",
    "\n",
    "A = np.array([[1, 2, 5], [3, 1, -8]])\n",
    "A_ = np.array([[1, 2, 5, 4], [3, 1, -8, -2]])\n",
    "rank_a = np.linalg.matrix_rank(A)\n",
    "rank_a_ = np.linalg.matrix_rank(A_)\n",
    "\n",
    "print(f'Ранг обычной матрицы равен {rank_a}')\n",
    "print(f'Ранг расширенной матрицы равен {rank_a_}')"
   ]
  },
  {
   "cell_type": "markdown",
   "metadata": {},
   "source": [
    "Так как $rang A = rang \\widetilde{A} < n$ , где $n$ - кол-во неизвестных, то СЛАУ является неопределённой (имеет бесконечное количество решений)."
   ]
  },
  {
   "cell_type": "markdown",
   "metadata": {},
   "source": [
    "#### 3. Проверить на совместность и выяснить, сколько решений будет иметь система линейных уравнений, заданная расширенной матрицей\n",
    "\n",
    "$$\\tilde{A}=\\begin{pmatrix}\n",
    "\\left.\\begin{matrix}\n",
    "1 & 3 & -2 & 4\\\\ \n",
    "0 & 5 & 0 & 1\\\\ \n",
    "0 & 0 & 3 & 0\\\\ \n",
    "0 & 0 & 0 & 2\n",
    "\\end{matrix}\\right|\n",
    "\\begin{matrix}\n",
    "3\\\\ \n",
    "2\\\\\n",
    "4\\\\\n",
    "1\n",
    "\\end{matrix}\n",
    "\\end{pmatrix}.$$"
   ]
  },
  {
   "cell_type": "code",
   "execution_count": 5,
   "metadata": {},
   "outputs": [
    {
     "name": "stdout",
     "output_type": "stream",
     "text": [
      "Ранг обычной матрицы равен 4\n",
      "Ранг расширенной матрицы равен 4\n"
     ]
    }
   ],
   "source": [
    "A = np.array([[1, 3, -2, 4], [0, 5, 0, 1], [0, 0, 3, 0], [0, 0, 0, 2]])\n",
    "A_ = np.array([[1, 3, -2, 4, 3], [0, 5, 0, 1, 2], [0, 0, 3, 0, 4], [0, 0, 0, 2, 1]])\n",
    "rank_a = np.linalg.matrix_rank(A)\n",
    "rank_a_ = np.linalg.matrix_rank(A_)\n",
    "\n",
    "print(f'Ранг обычной матрицы равен {rank_a}')\n",
    "print(f'Ранг расширенной матрицы равен {rank_a_}')"
   ]
  },
  {
   "cell_type": "markdown",
   "metadata": {},
   "source": [
    "Так как $rang A = rang \\widetilde{A} = n$ , где $n$ - кол-во неизвестных, то СЛАУ является определённой (имеет ровно одно решение)."
   ]
  },
  {
   "cell_type": "markdown",
   "metadata": {},
   "source": [
    "#### 4. Дана система линейных уравнений, заданная расширенной матрицей\n",
    "\n",
    "$$\\tilde{A}=\\begin{pmatrix}\n",
    "\\left.\\begin{matrix}\n",
    "1 & 2 & 3\\\\ \n",
    "4 & 5 & 6\\\\ \n",
    "7 & 8 & 9\n",
    "\\end{matrix}\\right|\n",
    "\\begin{matrix}\n",
    "a\\\\ \n",
    "b\\\\\n",
    "c\n",
    "\\end{matrix}\n",
    "\\end{pmatrix}.$$\n",
    "\n",
    "Найти соотношение между параметрами $a$, $b$ и $c$, при которых система является несовместной."
   ]
  },
  {
   "cell_type": "code",
   "execution_count": 6,
   "metadata": {},
   "outputs": [
    {
     "name": "stdout",
     "output_type": "stream",
     "text": [
      "Ранг обычной матрицы равен 2\n"
     ]
    }
   ],
   "source": [
    "A = np.array([[1, 2, 3], [4, 5, 6], [7, 8, 9]])\n",
    "rank_a = np.linalg.matrix_rank(A)\n",
    "\n",
    "print(f'Ранг обычной матрицы равен {rank_a}')"
   ]
  },
  {
   "cell_type": "markdown",
   "metadata": {},
   "source": [
    "Исходя из теоремы Кронекера-Капелли, чтобы система была несовместимо необходимо выполнение неравенства $rang A\\neq rang \\widetilde{A}$.\n",
    "\n",
    "В данном случае $rang \\widetilde{A}$ должен быть не меньше 2."
   ]
  },
  {
   "cell_type": "markdown",
   "metadata": {},
   "source": [
    "Преобразуем матрицу $\\widetilde{A}$ к ступенчатой форме:"
   ]
  },
  {
   "cell_type": "markdown",
   "metadata": {},
   "source": [
    "Вычтем из второй строки первую, помноженную на 2, затем вычтем из третей строки первую, помноженную на 3:"
   ]
  },
  {
   "cell_type": "markdown",
   "metadata": {},
   "source": [
    "$\\begin{pmatrix}\n",
    "\\left.\\begin{matrix}\n",
    "1 & 2 & 3\\\\ \n",
    "2 & 1 & 0\\\\ \n",
    "4 & 2 & 0\n",
    "\\end{matrix}\\right|\n",
    "\\begin{matrix}\n",
    "a\\\\ \n",
    "b - 2a\\\\\n",
    "c - 3a\n",
    "\\end{matrix}\n",
    "\\end{pmatrix}.$"
   ]
  },
  {
   "cell_type": "markdown",
   "metadata": {},
   "source": [
    "Следующим действием вычтем из третей строки вторую, помноженную на 2:\n",
    "\n",
    "$\\begin{pmatrix}\n",
    "\\left.\\begin{matrix}\n",
    "1 & 2 & 3\\\\ \n",
    "2 & 1 & 0\\\\ \n",
    "0 & 0 & 0\n",
    "\\end{matrix}\\right|\n",
    "\\begin{matrix}\n",
    "a\\\\ \n",
    "b - 2a\\\\\n",
    "c + a - 2b\n",
    "\\end{matrix}\n",
    "\\end{pmatrix}.$"
   ]
  },
  {
   "cell_type": "markdown",
   "metadata": {},
   "source": [
    "Если $c + a - 2b\\neq 0$, то СЛАУ является несовместной. Иначе одна из неизвестных является свободной переменной, а, следовательно, СЛАУ имеет бесконечное множество решений."
   ]
  },
  {
   "cell_type": "markdown",
   "metadata": {},
   "source": [
    "### Часть 2"
   ]
  },
  {
   "cell_type": "markdown",
   "metadata": {},
   "source": [
    "#### 1. Решить систему уравнений методом Крамера:\n",
    "\n",
    "   а) $\\begin{cases}\n",
    "x_{1}-2x_{2}=1 \\\\\n",
    "3x_{1}-4x_{2}=7\n",
    "\\end{cases}$\n",
    "\n",
    "б) $\\begin{cases}\n",
    "2x_{1}-x_{2}+5x_{3}=10 \\\\\n",
    "x_{1}+x_{2}-3x_{3}=-2 \\\\\n",
    "2x_{1}+4x_{2}+x_{3}=1\n",
    "\\end{cases}$"
   ]
  },
  {
   "cell_type": "code",
   "execution_count": 7,
   "metadata": {},
   "outputs": [],
   "source": [
    "# а)\n",
    "\n",
    "A = np.array([[1, -2], [3, -4]])\n",
    "A_2 = np.array([[1, -2], [7, -4]])\n",
    "A_3 = np.array([[1, 1], [3, 7]])\n",
    "\n",
    "det_a = np.linalg.det(A)\n",
    "det_a2 = np.linalg.det(A_2)\n",
    "det_a3 = np.linalg.det(A_3)"
   ]
  },
  {
   "cell_type": "code",
   "execution_count": 8,
   "metadata": {},
   "outputs": [
    {
     "name": "stdout",
     "output_type": "stream",
     "text": [
      "Определитель матрицы А: 2\n",
      "Определитель матрицы А_2: 10\n",
      "Определитель матрицы А_3: 4\n"
     ]
    }
   ],
   "source": [
    "print(f'Определитель матрицы А: {det_a:.0f}')\n",
    "print(f'Определитель матрицы А_2: {det_a2:.0f}')\n",
    "print(f'Определитель матрицы А_3: {det_a3:.0f}')"
   ]
  },
  {
   "cell_type": "code",
   "execution_count": 9,
   "metadata": {},
   "outputs": [
    {
     "name": "stdout",
     "output_type": "stream",
     "text": [
      "Ответ:\n",
      " x_1 равен 5\n",
      " x_2 равен 2\n"
     ]
    }
   ],
   "source": [
    "print(f'Ответ:\\n x_1 равен {det_a2 / det_a:.0f}\\n x_2 равен {det_a3 / det_a:.0f}')"
   ]
  },
  {
   "cell_type": "code",
   "execution_count": 10,
   "metadata": {},
   "outputs": [
    {
     "name": "stdout",
     "output_type": "stream",
     "text": [
      "Определитель матрицы А: 43\n",
      "Определитель матрицы А_2: 86\n",
      "Определитель матрицы А_3: -43\n",
      "Определитель матрицы А_4: 43\n"
     ]
    }
   ],
   "source": [
    "# б)\n",
    "\n",
    "A = np.array([[2, -1, 5], [1, 1, -3], [2, 4, 1]])\n",
    "A_2 = np.array([[10, -1, 5], [-2, 1, -3], [1, 4, 1]])\n",
    "A_3 = np.array([[2, 10, 5], [1, -2, -3], [2, 1, 1]])\n",
    "A_4 = np.array([[2, -1, 10], [1, 1, -2], [2, 4, 1]])\n",
    "\n",
    "det_a = np.linalg.det(A)\n",
    "det_a2 = np.linalg.det(A_2)\n",
    "det_a3 = np.linalg.det(A_3)\n",
    "det_a4 = np.linalg.det(A_4)\n",
    "\n",
    "print(f'Определитель матрицы А: {det_a:.0f}')\n",
    "print(f'Определитель матрицы А_2: {det_a2:.0f}')\n",
    "print(f'Определитель матрицы А_3: {det_a3:.0f}')\n",
    "print(f'Определитель матрицы А_4: {det_a4:.0f}')"
   ]
  },
  {
   "cell_type": "code",
   "execution_count": 11,
   "metadata": {},
   "outputs": [
    {
     "name": "stdout",
     "output_type": "stream",
     "text": [
      "Ответ:\n",
      " x_1 равен 2\n",
      " x_2 равен -1\n",
      " x_3 равен 1\n"
     ]
    }
   ],
   "source": [
    "print(f'Ответ:\\n x_1 равен {det_a2 / det_a:.0f}\\n x_2 равен {det_a3 / det_a:.0f}\\n x_3 равен {det_a4 / det_a:.0f}')"
   ]
  },
  {
   "cell_type": "markdown",
   "metadata": {},
   "source": [
    "#### 2. Найти $L$-матрицу $LU$-разложения для матрицы коэффициентов:\n",
    "\n",
    "   а)$$\\begin{pmatrix}\n",
    "1 & 2 & 4 \\\\ \n",
    "2 & 9 & 12 \\\\ \n",
    "3 & 26 & 30\n",
    "\\end{pmatrix}$$\n",
    "    \n",
    "   б)$$\\begin{pmatrix}\n",
    "1 & 1 & 2 & 4\\\\ \n",
    "2 & 5 & 8 & 9\\\\ \n",
    "3 & 18 & 29 & 18\\\\\n",
    "4 & 22 & 53 & 33\n",
    "\\end{pmatrix}$$"
   ]
  },
  {
   "cell_type": "markdown",
   "metadata": {},
   "source": [
    "а) Начнем прямой ход метода Гаусса. Для этого домножим первую строку на  2  и вычтем ее из второй строки. При этом запишем в матрицу  $L$  на место элемента  $l_{21}$  значение  2 . Затем нам нужно вычесть из третьей строки первую, домноженную на  3 . Значит, в матрицу  $L$  запишем  $l_{31} = 3$ .\n",
    "\n",
    "Матрица коэффициентов будет иметь вид\n",
    "\n",
    "$\\begin{pmatrix}\n",
    "1 & 2 & 4 \\\\ \n",
    "0 & 5 & 4 \\\\ \n",
    "0 & 20 & 18\n",
    "\\end{pmatrix}$\n",
    "\n",
    "А матрица $L$ -\n",
    "\n",
    "$\\begin{pmatrix}\n",
    "1 & 0 & 0 \\\\ \n",
    "2 & 1 & 0 \\\\ \n",
    "3 & l_{32} & 1\n",
    "\\end{pmatrix}$"
   ]
  },
  {
   "cell_type": "markdown",
   "metadata": {},
   "source": [
    "Далее умножим вторую строку на $4$ и вычтем ее из третьей. При этом в матрицу $L$ на место $l_{32}$ запишем $4$.\n",
    "\n",
    "В итоге получим\n",
    "\n",
    "$U=\\begin{pmatrix}\n",
    "1 & 2 & 4 \\\\ \n",
    "0 & 5 & 4 \\\\ \n",
    "0 & 0 & 2\n",
    "\\end{pmatrix},$\n",
    "\n",
    "$L=\\begin{pmatrix}\n",
    "1 & 0 & 0 \\\\ \n",
    "2 & 1 & 0 \\\\ \n",
    "3 & 4 & 1\n",
    "\\end{pmatrix}.$"
   ]
  },
  {
   "cell_type": "markdown",
   "metadata": {},
   "source": [
    "б) Начнем прямой ход метода Гаусса. Для этого домножим первую строку на  2  и вычтем ее из второй строки. При этом запишем в матрицу  $L$  на место элемента  $l_{21}$  значение  2 . Затем нам нужно вычесть из третьей строки первую, домноженную на  3 . Значит, в матрицу  $L$  запишем  $l_{31} = 3$ , а из четвёртой первую, домноженную на 4, в матрицу  $L$  запишем  $l_{41} = 4$\n",
    "\n",
    "Матрица коэффициентов будет иметь вид\n",
    "\n",
    "$\\begin{pmatrix}\n",
    "1 & 1 & 2 & 4\\\\ \n",
    "0 & 3 & 4 & 1\\\\ \n",
    "0 & 15 & 23 & 6\\\\\n",
    "0 & 18 & 45 & 17\n",
    "\\end{pmatrix}$\n",
    "\n",
    "А матрица $L$ -\n",
    "\n",
    "$\\begin{pmatrix}\n",
    "1 & 0 & 0 & 0 \\\\ \n",
    "2 & 1 & 0 & 0 \\\\ \n",
    "3 & l_{32} & 1 & 0 \\\\\n",
    "4 & l_{42} & l_{43} & 1 \n",
    "\\end{pmatrix}$"
   ]
  },
  {
   "cell_type": "markdown",
   "metadata": {},
   "source": [
    "Далее умножим вторую строку на $5$ и вычтем ее из третьей. При этом в матрицу $L$ на место $l_{32}$ запишем $5$. Затем умножим вторую строку на $6$ и вычтем её из четвёртой, при этом в матрицу $L$ на место $l_{42}$ запишем $6$\n",
    "\n",
    "В итоге получим:\n",
    "\n",
    "Матрица коэффициентов будет иметь вид\n",
    "\n",
    "$\\begin{pmatrix}\n",
    "1 & 1 & 2 & 4\\\\ \n",
    "0 & 3 & 4 & 1\\\\ \n",
    "0 & 0 & 3 & 1\\\\\n",
    "0 & 0 & 21 & 11\n",
    "\\end{pmatrix}$\n",
    "\n",
    "А матрица $L$ -\n",
    "\n",
    "$\\begin{pmatrix}\n",
    "1 & 0 & 0 & 0 \\\\ \n",
    "2 & 1 & 0 & 0 \\\\ \n",
    "3 & 5 & 1 & 0 \\\\\n",
    "4 & 6 & l_{43} & 1 \n",
    "\\end{pmatrix}$"
   ]
  },
  {
   "cell_type": "markdown",
   "metadata": {},
   "source": [
    "Далее умножим третью строку на $7$ и вычтем ее из четвёртой. При этом в матрицу $L$ на место $l_{43}$ запишем $7$.\n",
    "\n",
    "В итоге получим:\n",
    "\n",
    "$U=\\begin{pmatrix}\n",
    "1 & 1 & 2 & 4\\\\ \n",
    "0 & 3 & 4 & 1\\\\ \n",
    "0 & 0 & 3 & 1\\\\\n",
    "0 & 0 & 0 & 4\n",
    "\\end{pmatrix},$\n",
    "\n",
    "$L=\\begin{pmatrix}\n",
    "1 & 0 & 0 & 0 \\\\ \n",
    "2 & 1 & 0 & 0 \\\\ \n",
    "3 & 5 & 1 & 0 \\\\\n",
    "4 & 6 & 7 & 1\n",
    "\\end{pmatrix}.$"
   ]
  },
  {
   "cell_type": "markdown",
   "metadata": {},
   "source": [
    "#### 3. Решить систему линейных уравнений методом $LU$-разложения\n",
    "\n",
    "$$\\begin{cases}\n",
    "2x_{1}+x_{2}+3x_{3}=1 \\\\\n",
    "11x_{1}+7x_{2}+5x_{3}=-6 \\\\\n",
    "9x_{1}+8x_{2}+4x_{3}=-5\n",
    "\\end{cases}$$"
   ]
  },
  {
   "cell_type": "markdown",
   "metadata": {},
   "source": [
    "Матрица коэффициентов имеет вид\n",
    "\n",
    "$\\begin{pmatrix}\n",
    "2 & 1 & 3 \\\\ \n",
    "11 & 7 & 5 \\\\ \n",
    "9 & 8 & 4\n",
    "\\end{pmatrix}$"
   ]
  },
  {
   "cell_type": "markdown",
   "metadata": {},
   "source": [
    "Начнем прямой ход метода Гаусса. Для этого домножим первую строку на  $5.5$  и вычтем ее из второй строки. При этом запишем в матрицу  $L$  на место элемента  $l_{21}$  значение  $5.5$ . Затем нам нужно вычесть из третьей строки первую, домноженную на  $4.5$ . Значит, в матрицу  $L$  запишем  $l_{31} = 4.5$ .\n",
    "\n",
    "Матрица коэффициентов будет иметь вид\n",
    "\n",
    "$\\begin{pmatrix}\n",
    "2 & 1 & 3 \\\\ \n",
    "0 & 1.5 & -11.5 \\\\ \n",
    "0 & 3.5 & -9.5\n",
    "\\end{pmatrix}$\n",
    "\n",
    "А матрица $L$ -\n",
    "\n",
    "$\\begin{pmatrix}\n",
    "1 & 0 & 0 \\\\ \n",
    "5.5 & 1 & 0 \\\\ \n",
    "4.5 & l_{32} & 1\n",
    "\\end{pmatrix}$"
   ]
  },
  {
   "cell_type": "markdown",
   "metadata": {},
   "source": [
    "Далее умножим первую строку на $3.5$ и вычтем ее из третьей. При этом в матрицу $L$ на место $l_{32}$ запишем $3.5$.\n",
    "\n",
    "В итоге получим\n",
    "\n",
    "$U=\\begin{pmatrix}\n",
    "2 & 1 & 3 \\\\ \n",
    "0 & 1.5 & -11.5 \\\\ \n",
    "0 & 0 & -20\n",
    "\\end{pmatrix},$\n",
    "\n",
    "$L=\\begin{pmatrix}\n",
    "1 & 0 & 0 \\\\ \n",
    "5.5 & 1 & 0 \\\\ \n",
    "4.5 & 3.5 & 1\n",
    "\\end{pmatrix}.$"
   ]
  },
  {
   "cell_type": "markdown",
   "metadata": {},
   "source": [
    "Теперь решим систему $Ly = b$\n",
    "\n",
    "$\\begin{cases}\n",
    "y_{1} = 1 \\\\\n",
    "5.5y_{1} + y_{2} = -6 \\\\\n",
    "4.5y_{1} + 3.5y_{2} + y_{3} = -5\n",
    "\\end{cases}$"
   ]
  },
  {
   "cell_type": "markdown",
   "metadata": {},
   "source": [
    "$\\begin{cases}\n",
    "y_{1} = 1 \\\\\n",
    "y_{2} = -11.5 \\\\\n",
    "y_{3} = 30.75\n",
    "\\end{cases}$"
   ]
  },
  {
   "cell_type": "markdown",
   "metadata": {},
   "source": [
    "Теперь решим систему $Ux = y$\n",
    "\n",
    "$\\begin{cases}\n",
    "2x_{1} + x_{2} + 3x_{3} = 1 \\\\\n",
    "1.5x_{2} - 11.5x_{3} = -11.5 \\\\\n",
    "-20x_{3} = 30.75\n",
    "\\end{cases}$"
   ]
  },
  {
   "cell_type": "markdown",
   "metadata": {},
   "source": [
    "$\\begin{cases}\n",
    "x_{1}= 12,530(3) \\\\\n",
    "x_{2} = -19.4541(6) \\\\\n",
    "x_{3} = -1.5375\n",
    "\\end{cases}$"
   ]
  },
  {
   "cell_type": "markdown",
   "metadata": {},
   "source": [
    "При проверке, подставив полученные значения в исходную систему, получаются равенства, а значит, найденное решение верно."
   ]
  },
  {
   "cell_type": "markdown",
   "metadata": {},
   "source": [
    "#### 4. Решить систему линейных уравнений методом Холецкого\n",
    "\n",
    "$$\\begin{cases}\n",
    "81x_{1}-45x_{2}+45x_{3}=531 \\\\\n",
    "-45x_{1}+50x_{2}-15x_{3}=-460 \\\\\n",
    "45x_{1}-15x_{2}+38x_{3}=193\n",
    "\\end{cases}$$"
   ]
  },
  {
   "cell_type": "markdown",
   "metadata": {},
   "source": [
    "Матрица коэффициентов будет иметь вид\n",
    "\n",
    "$\\begin{pmatrix}\n",
    "81 & -45 & 45 \\\\ \n",
    "-45 & 50 & -15 \\\\ \n",
    "45 & -15 & 38\n",
    "\\end{pmatrix}$"
   ]
  },
  {
   "cell_type": "markdown",
   "metadata": {},
   "source": [
    "Произведем разложение на $LL^{T}$:\n",
    "\n",
    "$l_{11}=\\sqrt{a_{11}}=\\sqrt{81} = 9,$\n",
    "\n",
    "$l_{21}=\\frac{a_{21}}{l_{11}}=\\frac{-45}{9}=-5,$\n",
    "\n",
    "$l_{31}=\\frac{a_{31}}{l_{11}}=\\frac{45}{9}=5,$\n",
    "\n",
    "\n",
    "$l_{22}=\\sqrt{a_{22}-l_{21}^{2}}=\\sqrt{50 - 25}=\\sqrt{50 - 25} = 5,$\n",
    "\n",
    "$l_{32}=\\frac{1}{l_{22}}\\left ( a_{32}-l_{21}l_{31} \\right)=\\frac{1}{5}\\left ( -15 - (-5)\\cdot 5\\right )=2,$\n",
    "\n",
    "$l_{33}=\\sqrt{a_{33}-l_{31}^{2}-l_{32}^{2}}=\\sqrt{38-25-4}=3.$"
   ]
  },
  {
   "cell_type": "markdown",
   "metadata": {},
   "source": [
    "Получили матрицы \n",
    "\n",
    "$L = \\begin{pmatrix}\n",
    "9 & 0 & 0 \\\\ \n",
    "-5 & 5 & 0 \\\\ \n",
    "5 & 2 & 3\n",
    "\\end{pmatrix}, \n",
    "\\; \\;$\n",
    "\n",
    "\n",
    "$L^{T} = \\begin{pmatrix}\n",
    "9 & -5 & 5 \\\\ \n",
    "0 & 5 & 2 \\\\ \n",
    "0 & 0 & 3\n",
    "\\end{pmatrix}.$"
   ]
  },
  {
   "cell_type": "markdown",
   "metadata": {},
   "source": [
    "Решим систему $Ly=b$\n",
    "\n",
    "$\\begin{cases}\n",
    "9y_{1}=531 \\\\\n",
    "-5y_{1}+5y_{2}=-460 \\\\\n",
    "5y_{1}-2y_{2}+3y_{3}=193\n",
    "\\end{cases}$"
   ]
  },
  {
   "cell_type": "markdown",
   "metadata": {},
   "source": [
    "$\\begin{cases}\n",
    "y_{1}=59 \\\\\n",
    "y_{2}=-33 \\\\\n",
    "y_{3}=-12\n",
    "\\end{cases}$"
   ]
  },
  {
   "cell_type": "markdown",
   "metadata": {},
   "source": [
    "Решим систему $L^{T}x=y$\n",
    "\n",
    "$\\begin{cases}\n",
    "9x_{1}-5x_{2}+5x_{3}=59 \\\\\n",
    "5x_{2}+2x_{3}=-33 \\\\\n",
    "3x_{3}=-12\n",
    "\\end{cases}$"
   ]
  },
  {
   "cell_type": "markdown",
   "metadata": {},
   "source": [
    "$\\begin{cases}\n",
    "x_{1}=6 \\\\\n",
    "x_{2}=-5 \\\\\n",
    "x_{3}=-4\n",
    "\\end{cases}$"
   ]
  },
  {
   "cell_type": "markdown",
   "metadata": {},
   "source": [
    "Проверим полученные результаты, подставив их в изначальную систему:\n",
    "\n",
    "$\\begin{cases}\n",
    "81\\cdot6-45\\cdot(-5)+45\\cdot(-4)=531 \\\\\n",
    "-45\\cdot6+50\\cdot(-5)-15\\cdot(-4)=-460 \\\\\n",
    "45\\cdot6-15\\cdot(-5)+38\\cdot(-4)=193\n",
    "\\end{cases}$"
   ]
  },
  {
   "cell_type": "markdown",
   "metadata": {},
   "source": [
    "$\\begin{cases}\n",
    "531=531 \\\\\n",
    "-460=-460 \\\\\n",
    "193=193\n",
    "\\end{cases}$"
   ]
  },
  {
   "cell_type": "markdown",
   "metadata": {},
   "source": [
    "#### 5. Написать на Python программу с реализацией одного из изученных алгоритмов решения СЛАУ."
   ]
  },
  {
   "cell_type": "code",
   "execution_count": 12,
   "metadata": {},
   "outputs": [
    {
     "name": "stdout",
     "output_type": "stream",
     "text": [
      "[[ 1 -2]\n",
      " [ 3 -4]]\n",
      "\n",
      " [1 7]\n",
      "\n",
      " 2\n",
      "\n",
      " [[ 1 -2]\n",
      " [ 7 -4]]\n",
      "\n",
      " [[1 1]\n",
      " [3 7]]\n",
      "\n",
      " [5.0, 2.0]\n"
     ]
    }
   ],
   "source": [
    "#Минор\n",
    "def submatrix(M,c):\n",
    "    B = [[1]*len(M) for i in range(len(M))]\n",
    "    for l in range(len(M)):\n",
    "        for k in range(len(M)):\n",
    "            B[l][k] = M[l][k]\n",
    "    \n",
    "    B.pop(0)\n",
    "    \n",
    "    for i in range(len(B)):\n",
    "        B[i].pop(c)\n",
    "    return B\n",
    "\n",
    "#Определитель методом Лапласа\n",
    "def det_L(M):\n",
    "    X = 0\n",
    "    if len(M) != len(M[0]):\n",
    "        print('Матрица не квадратная')\n",
    "    else:\n",
    "        if len(M)<=2:\n",
    "            return M[0][0] * M[1][1] - M[0][1] * M[1][0]\n",
    "        else:\n",
    "            for i in range(len(M)):\n",
    "                X = X + ((-1)**i)*M[0][i]*det_L(submatrix(M,i))\n",
    "        return X\n",
    "\n",
    "#Решение методом Крамера\n",
    "def Kramer(A,B):\n",
    "    det_A = det_L(A)\n",
    "    X = []\n",
    "    if det_A == 0:\n",
    "        print('Определитель матрицы не должен быть равен 0')\n",
    "        return X\n",
    "    n = len(A)    \n",
    "    for i in range(n):\n",
    "        matrix = A.copy()\n",
    "        matrix[:,i] = B\n",
    "        print('\\n',matrix)\n",
    "        X.append(det_L(matrix) / det_A)\n",
    "    return X\n",
    "    \n",
    "#a = np.random.rand(3,3)\n",
    "#b = np.random.rand(1,3)\n",
    "a = np.array([[1,-2],[3,-4]])\n",
    "b = np.array([1,7])\n",
    "print(a)\n",
    "print('\\n',b)\n",
    "print('\\n', det_L(a))\n",
    "print('\\n', Kramer(a,b))"
   ]
  }
 ],
 "metadata": {
  "kernelspec": {
   "display_name": "Python 3",
   "language": "python",
   "name": "python3"
  },
  "language_info": {
   "codemirror_mode": {
    "name": "ipython",
    "version": 3
   },
   "file_extension": ".py",
   "mimetype": "text/x-python",
   "name": "python",
   "nbconvert_exporter": "python",
   "pygments_lexer": "ipython3",
   "version": "3.8.3"
  }
 },
 "nbformat": 4,
 "nbformat_minor": 4
}
